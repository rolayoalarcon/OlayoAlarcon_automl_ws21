{
 "cells": [
  {
   "cell_type": "code",
   "execution_count": 1,
   "id": "c13e077e",
   "metadata": {},
   "outputs": [],
   "source": [
    "import numpy as np\n",
    "import pandas as pd\n",
    "import seaborn as sns\n",
    "from scipy.io import arff\n",
    "import matplotlib.pyplot as plt\n",
    "from scripts.experiment_functions import kfold_experiments"
   ]
  },
  {
   "cell_type": "markdown",
   "id": "1b3e02da",
   "metadata": {},
   "source": [
    "# Read Data"
   ]
  },
  {
   "cell_type": "markdown",
   "id": "ef0994ce",
   "metadata": {},
   "source": [
    "Churn data"
   ]
  },
  {
   "cell_type": "code",
   "execution_count": 2,
   "id": "b1acc476",
   "metadata": {},
   "outputs": [],
   "source": [
    "churn_data = arff.loadarff(\"data/chrun.arff\")\n",
    "churn_df = pd.DataFrame(churn_data[0])"
   ]
  },
  {
   "cell_type": "markdown",
   "id": "e173b080",
   "metadata": {},
   "source": [
    "Ok Cupid data"
   ]
  },
  {
   "cell_type": "code",
   "execution_count": 3,
   "id": "68e082d4",
   "metadata": {},
   "outputs": [],
   "source": [
    "okcupid_stem = arff.loadarff(\"data/okcupid_stem.arff\")\n",
    "okcupid_df = pd.DataFrame(okcupid_stem[0])"
   ]
  },
  {
   "cell_type": "markdown",
   "id": "5dc01dca",
   "metadata": {},
   "source": [
    "### Small pre-processing. \n",
    "\n",
    "The columns **class** and **number_customer_service_calls** can be made ints"
   ]
  },
  {
   "cell_type": "code",
   "execution_count": 4,
   "id": "97e7d781",
   "metadata": {},
   "outputs": [],
   "source": [
    "churn_df[\"class\"] = churn_df[\"class\"].astype(int)\n",
    "churn_df[\"number_customer_service_calls\"] = churn_df[\"number_customer_service_calls\"].astype(int)"
   ]
  },
  {
   "cell_type": "markdown",
   "id": "24d5d66d",
   "metadata": {},
   "source": [
    "We replace **'?'** with nan values.\n",
    "The income column is turned to float values"
   ]
  },
  {
   "cell_type": "code",
   "execution_count": 5,
   "id": "859cd110",
   "metadata": {},
   "outputs": [],
   "source": [
    "def determine_dtype(x):\n",
    "    return x.decode(\"utf-8\")\n",
    "    \n",
    "\n",
    "okcupid_df[\"job\"] = okcupid_df[\"job\"].apply(determine_dtype)"
   ]
  },
  {
   "cell_type": "code",
   "execution_count": 6,
   "id": "4f9692f5",
   "metadata": {},
   "outputs": [],
   "source": [
    "okcupid_df.replace(b'?', np.nan, inplace=True)\n",
    "okcupid_df[\"income\"] = okcupid_df[\"income\"].astype('float64')"
   ]
  },
  {
   "cell_type": "markdown",
   "id": "aaca1593",
   "metadata": {},
   "source": [
    "# Experiments"
   ]
  },
  {
   "cell_type": "markdown",
   "id": "fe062342",
   "metadata": {},
   "source": [
    "### Churn data experiments"
   ]
  },
  {
   "cell_type": "markdown",
   "id": "bebcfb86",
   "metadata": {},
   "source": [
    "Prepare parameters"
   ]
  },
  {
   "cell_type": "code",
   "execution_count": 7,
   "id": "8316f615",
   "metadata": {},
   "outputs": [],
   "source": [
    "from sklearn.tree import DecisionTreeClassifier\n",
    "from sklearn.ensemble import RandomForestClassifier, GradientBoostingClassifier"
   ]
  },
  {
   "cell_type": "code",
   "execution_count": 8,
   "id": "a77ddacc",
   "metadata": {},
   "outputs": [],
   "source": [
    "# Data\n",
    "X_churn = churn_df.drop(columns=\"class\")\n",
    "y_churn = np.reshape(churn_df[\"class\"].values, X_churn.shape[0])\n",
    "\n",
    "# Experiment parameters\n",
    "kfolds = 5\n",
    "scorer = \"neg_log_loss\"\n",
    "ncores = 50\n",
    "random_state = 42\n",
    "\n",
    "# AutoML params\n",
    "automl_dict = {\"classification_algorithms\": [\"EL\", \"RF\", \"GB\"],\n",
    "               \"numerical_strategies\": [\"SSE\", \"MMS\"],\n",
    "               \"categorical_strategies\": [\"OHE\", \"SUM\"],\n",
    "               \"test_fraction\": 0.1,\n",
    "               \"cv_folds\": 4,\n",
    "               \"random_state\": random_state,\n",
    "               \"num_iterations\": 4,\n",
    "               \"fidelity_parameter\": 2,\n",
    "               \"n_jobs\": ncores,\n",
    "               \"loss_function\": scorer}\n",
    "\n",
    "# Voters\n",
    "voter_clfs = [RandomForestClassifier(random_state=random_state), \n",
    "              DecisionTreeClassifier(random_state=random_state),\n",
    "              GradientBoostingClassifier(random_state=random_state)]"
   ]
  },
  {
   "cell_type": "code",
   "execution_count": 9,
   "id": "e3fe67da",
   "metadata": {
    "scrolled": true
   },
   "outputs": [
    {
     "name": "stdout",
     "output_type": "stream",
     "text": [
      "Fold 0\n"
     ]
    },
    {
     "name": "stderr",
     "output_type": "stream",
     "text": [
      "Data-Model combinations: 0it [00:00, ?it/s]\n",
      "Hyperband iterations:   0%|          | 0/4 [00:00<?, ?it/s]\u001b[A\n",
      "Hyperband iterations:  25%|██▌       | 1/4 [00:02<00:07,  2.60s/it]\u001b[A\n",
      "Hyperband iterations:  50%|█████     | 2/4 [00:03<00:03,  1.89s/it]\u001b[A/home/roberto_olayo/miniconda3/envs/automl/lib/python3.6/site-packages/sklearn/linear_model/_sag.py:329: ConvergenceWarning: The max_iter was reached which means the coef_ did not converge\n",
      "  \"the coef_ did not converge\", ConvergenceWarning)\n",
      "\n",
      "Hyperband iterations:  75%|███████▌  | 3/4 [00:05<00:01,  1.62s/it]\u001b[A\n",
      "Hyperband iterations: 100%|██████████| 4/4 [00:08<00:00,  2.07s/it]\u001b[A\n",
      "Data-Model combinations: 1it [00:08,  8.27s/it]\n",
      "Hyperband iterations:   0%|          | 0/4 [00:00<?, ?it/s]\u001b[A\n",
      "Hyperband iterations:  25%|██▌       | 1/4 [00:04<00:12,  4.05s/it]\u001b[A\n",
      "Hyperband iterations:  50%|█████     | 2/4 [00:06<00:06,  3.29s/it]\u001b[A\n",
      "Hyperband iterations:  75%|███████▌  | 3/4 [00:09<00:02,  2.83s/it]\u001b[A\n",
      "Hyperband iterations: 100%|██████████| 4/4 [00:10<00:00,  2.67s/it]\u001b[A\n",
      "Data-Model combinations: 2it [00:18,  9.70s/it]\n",
      "Hyperband iterations:   0%|          | 0/4 [00:00<?, ?it/s]\u001b[A\n",
      "Hyperband iterations:  25%|██▌       | 1/4 [00:01<00:04,  1.47s/it]\u001b[A\n",
      "Hyperband iterations:  50%|█████     | 2/4 [00:02<00:02,  1.29s/it]\u001b[A\n",
      "Hyperband iterations:  75%|███████▌  | 3/4 [00:03<00:01,  1.16s/it]\u001b[A\n",
      "Hyperband iterations: 100%|██████████| 4/4 [00:05<00:00,  1.41s/it]\u001b[A\n",
      "Data-Model combinations: 3it [00:24,  7.85s/it]\n",
      "Hyperband iterations:   0%|          | 0/4 [00:00<?, ?it/s]\u001b[A\n",
      "Hyperband iterations:  25%|██▌       | 1/4 [00:01<00:04,  1.52s/it]\u001b[A\n",
      "Hyperband iterations:  50%|█████     | 2/4 [00:02<00:02,  1.29s/it]\u001b[A\n",
      "Hyperband iterations:  75%|███████▌  | 3/4 [00:03<00:01,  1.14s/it]\u001b[A\n",
      "Hyperband iterations: 100%|██████████| 4/4 [00:04<00:00,  1.10s/it]\u001b[A\n",
      "Data-Model combinations: 4it [00:29,  6.48s/it]\n",
      "Hyperband iterations:   0%|          | 0/4 [00:00<?, ?it/s]\u001b[A\n",
      "Hyperband iterations:  25%|██▌       | 1/4 [00:03<00:11,  3.74s/it]\u001b[A\n",
      "Hyperband iterations:  50%|█████     | 2/4 [00:06<00:06,  3.10s/it]\u001b[A\n",
      "Hyperband iterations:  75%|███████▌  | 3/4 [00:08<00:02,  2.73s/it]\u001b[A\n",
      "Hyperband iterations: 100%|██████████| 4/4 [00:10<00:00,  2.58s/it]\u001b[A\n",
      "Data-Model combinations: 5it [00:39,  7.87s/it]\n",
      "Hyperband iterations:   0%|          | 0/4 [00:00<?, ?it/s]\u001b[A\n",
      "Hyperband iterations:  25%|██▌       | 1/4 [00:01<00:04,  1.46s/it]\u001b[A\n",
      "Hyperband iterations:  50%|█████     | 2/4 [00:02<00:02,  1.36s/it]\u001b[A\n",
      "Hyperband iterations:  75%|███████▌  | 3/4 [00:03<00:01,  1.21s/it]\u001b[A\n",
      "Hyperband iterations: 100%|██████████| 4/4 [00:05<00:00,  1.44s/it]\u001b[A\n",
      "Data-Model combinations: 6it [00:45,  7.16s/it]\n",
      "Hyperband iterations:   0%|          | 0/4 [00:00<?, ?it/s]\u001b[A\n",
      "Hyperband iterations:  25%|██▌       | 1/4 [00:01<00:04,  1.42s/it]\u001b[A\n",
      "Hyperband iterations:  50%|█████     | 2/4 [00:02<00:02,  1.17s/it]\u001b[A\n",
      "Hyperband iterations:  75%|███████▌  | 3/4 [00:03<00:01,  1.25s/it]\u001b[A\n",
      "Hyperband iterations: 100%|██████████| 4/4 [00:04<00:00,  1.13s/it]\u001b[A\n",
      "Data-Model combinations: 7it [00:49,  6.29s/it]\n",
      "Hyperband iterations:   0%|          | 0/4 [00:00<?, ?it/s]\u001b[A\n",
      "Hyperband iterations:  25%|██▌       | 1/4 [00:03<00:10,  3.38s/it]\u001b[A\n",
      "Hyperband iterations:  50%|█████     | 2/4 [00:06<00:05,  2.97s/it]\u001b[A\n",
      "Hyperband iterations:  75%|███████▌  | 3/4 [00:08<00:02,  2.63s/it]\u001b[A\n",
      "Hyperband iterations: 100%|██████████| 4/4 [00:09<00:00,  2.48s/it]\u001b[A\n",
      "Data-Model combinations: 8it [00:59,  7.46s/it]\n",
      "Hyperband iterations:   0%|          | 0/4 [00:00<?, ?it/s]\u001b[A\n",
      "Hyperband iterations:  25%|██▌       | 1/4 [00:01<00:04,  1.35s/it]\u001b[A\n",
      "Hyperband iterations:  50%|█████     | 2/4 [00:02<00:02,  1.23s/it]\u001b[A\n",
      "Hyperband iterations:  75%|███████▌  | 3/4 [00:03<00:01,  1.11s/it]\u001b[A\n",
      "Hyperband iterations: 100%|██████████| 4/4 [00:05<00:00,  1.36s/it]\u001b[A\n",
      "Data-Model combinations: 9it [01:05,  6.83s/it]\n",
      "Hyperband iterations:   0%|          | 0/4 [00:00<?, ?it/s]\u001b[A\n",
      "Hyperband iterations:  25%|██▌       | 1/4 [00:01<00:03,  1.27s/it]\u001b[A\n",
      "Hyperband iterations:  50%|█████     | 2/4 [00:02<00:02,  1.06s/it]\u001b[A\n",
      "Hyperband iterations:  75%|███████▌  | 3/4 [00:02<00:00,  1.12it/s]\u001b[A\n",
      "Hyperband iterations: 100%|██████████| 4/4 [00:03<00:00,  1.20it/s]\u001b[A\n",
      "Data-Model combinations: 10it [01:08,  5.76s/it]\n",
      "Hyperband iterations:   0%|          | 0/4 [00:00<?, ?it/s]\u001b[A\n",
      "Hyperband iterations:  25%|██▌       | 1/4 [00:03<00:10,  3.43s/it]\u001b[A\n",
      "Hyperband iterations:  50%|█████     | 2/4 [00:06<00:05,  2.98s/it]\u001b[A\n",
      "Hyperband iterations:  75%|███████▌  | 3/4 [00:08<00:02,  2.65s/it]\u001b[A\n",
      "Hyperband iterations: 100%|██████████| 4/4 [00:09<00:00,  2.49s/it]\u001b[A\n",
      "Data-Model combinations: 11it [01:18,  7.05s/it]\n",
      "Hyperband iterations:   0%|          | 0/4 [00:00<?, ?it/s]\u001b[A\n",
      "Hyperband iterations:  25%|██▌       | 1/4 [00:01<00:03,  1.30s/it]\u001b[A\n",
      "Hyperband iterations:  50%|█████     | 2/4 [00:02<00:02,  1.23s/it]\u001b[A\n",
      "Hyperband iterations:  75%|███████▌  | 3/4 [00:03<00:01,  1.13s/it]\u001b[A\n",
      "Hyperband iterations: 100%|██████████| 4/4 [00:05<00:00,  1.38s/it]\u001b[A\n",
      "Data-Model combinations: 12it [01:23,  6.99s/it]\n"
     ]
    },
    {
     "name": "stdout",
     "output_type": "stream",
     "text": [
      "Fold 1\n"
     ]
    },
    {
     "name": "stderr",
     "output_type": "stream",
     "text": [
      "Data-Model combinations: 0it [00:00, ?it/s]\n",
      "Hyperband iterations:   0%|          | 0/4 [00:00<?, ?it/s]\u001b[A\n",
      "Hyperband iterations:  25%|██▌       | 1/4 [00:04<00:12,  4.06s/it]\u001b[A/home/roberto_olayo/miniconda3/envs/automl/lib/python3.6/site-packages/sklearn/linear_model/_sag.py:329: ConvergenceWarning: The max_iter was reached which means the coef_ did not converge\n",
      "  \"the coef_ did not converge\", ConvergenceWarning)\n",
      "\n",
      "Hyperband iterations:  50%|█████     | 2/4 [00:05<00:05,  2.79s/it]\u001b[A/home/roberto_olayo/miniconda3/envs/automl/lib/python3.6/site-packages/sklearn/linear_model/_sag.py:329: ConvergenceWarning: The max_iter was reached which means the coef_ did not converge\n",
      "  \"the coef_ did not converge\", ConvergenceWarning)\n",
      "\n",
      "Hyperband iterations:  75%|███████▌  | 3/4 [00:07<00:02,  2.12s/it]\u001b[A/home/roberto_olayo/miniconda3/envs/automl/lib/python3.6/site-packages/sklearn/linear_model/_sag.py:329: ConvergenceWarning: The max_iter was reached which means the coef_ did not converge\n",
      "  \"the coef_ did not converge\", ConvergenceWarning)\n",
      "\n",
      "Hyperband iterations: 100%|██████████| 4/4 [00:08<00:00,  2.12s/it]\u001b[A\n",
      "Data-Model combinations: 1it [00:08,  8.50s/it]\n",
      "Hyperband iterations:   0%|          | 0/4 [00:00<?, ?it/s]\u001b[A\n",
      "Hyperband iterations:  25%|██▌       | 1/4 [00:03<00:10,  3.40s/it]\u001b[A\n",
      "Hyperband iterations:  50%|█████     | 2/4 [00:05<00:05,  2.90s/it]\u001b[A\n",
      "Hyperband iterations:  75%|███████▌  | 3/4 [00:08<00:02,  2.58s/it]\u001b[A\n",
      "Hyperband iterations: 100%|██████████| 4/4 [00:09<00:00,  2.44s/it]\u001b[A\n",
      "Data-Model combinations: 2it [00:18,  9.25s/it]\n",
      "Hyperband iterations:   0%|          | 0/4 [00:00<?, ?it/s]\u001b[A\n",
      "Hyperband iterations:  25%|██▌       | 1/4 [00:01<00:03,  1.30s/it]\u001b[A\n",
      "Hyperband iterations:  50%|█████     | 2/4 [00:02<00:02,  1.25s/it]\u001b[A\n",
      "Hyperband iterations:  75%|███████▌  | 3/4 [00:03<00:01,  1.12s/it]\u001b[A\n",
      "Hyperband iterations: 100%|██████████| 4/4 [00:05<00:00,  1.38s/it]\u001b[A\n",
      "Data-Model combinations: 3it [00:23,  7.55s/it]\n",
      "Hyperband iterations:   0%|          | 0/4 [00:00<?, ?it/s]\u001b[A\n",
      "Hyperband iterations:  25%|██▌       | 1/4 [00:01<00:04,  1.50s/it]\u001b[A\n",
      "Hyperband iterations:  50%|█████     | 2/4 [00:02<00:02,  1.29s/it]\u001b[A\n",
      "Hyperband iterations:  75%|███████▌  | 3/4 [00:03<00:01,  1.15s/it]\u001b[A\n",
      "Hyperband iterations: 100%|██████████| 4/4 [00:04<00:00,  1.09s/it]\u001b[A\n",
      "Data-Model combinations: 4it [00:28,  6.29s/it]\n",
      "Hyperband iterations:   0%|          | 0/4 [00:00<?, ?it/s]\u001b[A\n",
      "Hyperband iterations:  25%|██▌       | 1/4 [00:03<00:10,  3.59s/it]\u001b[A\n",
      "Hyperband iterations:  50%|█████     | 2/4 [00:06<00:05,  2.93s/it]\u001b[A\n",
      "Hyperband iterations:  75%|███████▌  | 3/4 [00:08<00:02,  2.61s/it]\u001b[A\n",
      "Hyperband iterations: 100%|██████████| 4/4 [00:09<00:00,  2.47s/it]\u001b[A\n",
      "Data-Model combinations: 5it [00:38,  7.59s/it]\n",
      "Hyperband iterations:   0%|          | 0/4 [00:00<?, ?it/s]\u001b[A\n",
      "Hyperband iterations:  25%|██▌       | 1/4 [00:01<00:03,  1.32s/it]\u001b[A\n",
      "Hyperband iterations:  50%|█████     | 2/4 [00:02<00:02,  1.27s/it]\u001b[A\n",
      "Hyperband iterations:  75%|███████▌  | 3/4 [00:03<00:01,  1.15s/it]\u001b[A\n",
      "Hyperband iterations: 100%|██████████| 4/4 [00:05<00:00,  1.39s/it]\u001b[A\n",
      "Data-Model combinations: 6it [00:43,  6.90s/it]\n",
      "Hyperband iterations:   0%|          | 0/4 [00:00<?, ?it/s]\u001b[A\n",
      "Hyperband iterations:  25%|██▌       | 1/4 [00:01<00:03,  1.33s/it]\u001b[A\n",
      "Hyperband iterations:  50%|█████     | 2/4 [00:02<00:02,  1.13s/it]\u001b[A\n",
      "Hyperband iterations:  75%|███████▌  | 3/4 [00:03<00:01,  1.02s/it]\u001b[A\n",
      "Hyperband iterations: 100%|██████████| 4/4 [00:03<00:00,  1.01it/s]\u001b[A\n",
      "Data-Model combinations: 7it [00:47,  5.94s/it]\n",
      "Hyperband iterations:   0%|          | 0/4 [00:00<?, ?it/s]\u001b[A\n",
      "Hyperband iterations:  25%|██▌       | 1/4 [00:03<00:11,  3.92s/it]\u001b[A\n",
      "Hyperband iterations:  50%|█████     | 2/4 [00:06<00:06,  3.12s/it]\u001b[A\n",
      "Hyperband iterations:  75%|███████▌  | 3/4 [00:08<00:02,  2.72s/it]\u001b[A\n",
      "Hyperband iterations: 100%|██████████| 4/4 [00:10<00:00,  2.58s/it]\u001b[A\n",
      "Data-Model combinations: 8it [00:57,  7.34s/it]\n",
      "Hyperband iterations:   0%|          | 0/4 [00:00<?, ?it/s]\u001b[A\n",
      "Hyperband iterations:  25%|██▌       | 1/4 [00:01<00:03,  1.27s/it]\u001b[A\n",
      "Hyperband iterations:  50%|█████     | 2/4 [00:02<00:02,  1.22s/it]\u001b[A\n",
      "Hyperband iterations:  75%|███████▌  | 3/4 [00:03<00:01,  1.11s/it]\u001b[A\n",
      "Hyperband iterations: 100%|██████████| 4/4 [00:05<00:00,  1.36s/it]\u001b[A\n",
      "Data-Model combinations: 9it [01:03,  6.75s/it]\n",
      "Hyperband iterations:   0%|          | 0/4 [00:00<?, ?it/s]\u001b[A\n",
      "Hyperband iterations:  25%|██▌       | 1/4 [00:01<00:04,  1.36s/it]\u001b[A\n",
      "Hyperband iterations:  50%|█████     | 2/4 [00:02<00:02,  1.21s/it]\u001b[A\n",
      "Hyperband iterations:  75%|███████▌  | 3/4 [00:03<00:00,  1.04it/s]\u001b[A\n",
      "Hyperband iterations: 100%|██████████| 4/4 [00:03<00:00,  1.12it/s]\u001b[A\n",
      "Data-Model combinations: 10it [01:06,  5.77s/it]\n",
      "Hyperband iterations:   0%|          | 0/4 [00:00<?, ?it/s]\u001b[A\n",
      "Hyperband iterations:  25%|██▌       | 1/4 [00:03<00:11,  3.88s/it]\u001b[A\n",
      "Hyperband iterations:  50%|█████     | 2/4 [00:06<00:06,  3.10s/it]\u001b[A\n",
      "Hyperband iterations:  75%|███████▌  | 3/4 [00:08<00:02,  2.70s/it]\u001b[A\n",
      "Hyperband iterations: 100%|██████████| 4/4 [00:10<00:00,  2.57s/it]\u001b[A\n",
      "Data-Model combinations: 11it [01:17,  7.16s/it]\n",
      "Hyperband iterations:   0%|          | 0/4 [00:00<?, ?it/s]\u001b[A\n",
      "Hyperband iterations:  25%|██▌       | 1/4 [00:01<00:03,  1.30s/it]\u001b[A\n",
      "Hyperband iterations:  50%|█████     | 2/4 [00:02<00:02,  1.23s/it]\u001b[A\n",
      "Hyperband iterations:  75%|███████▌  | 3/4 [00:03<00:01,  1.13s/it]\u001b[A\n",
      "Hyperband iterations: 100%|██████████| 4/4 [00:05<00:00,  1.37s/it]\u001b[A\n",
      "Data-Model combinations: 12it [01:22,  6.89s/it]\n"
     ]
    },
    {
     "name": "stdout",
     "output_type": "stream",
     "text": [
      "Fold 2\n"
     ]
    },
    {
     "name": "stderr",
     "output_type": "stream",
     "text": [
      "Data-Model combinations: 0it [00:00, ?it/s]\n",
      "Hyperband iterations:   0%|          | 0/4 [00:00<?, ?it/s]\u001b[A\n",
      "Hyperband iterations:  25%|██▌       | 1/4 [00:04<00:12,  4.14s/it]\u001b[A\n",
      "Hyperband iterations:  50%|█████     | 2/4 [00:05<00:05,  2.76s/it]\u001b[A/home/roberto_olayo/miniconda3/envs/automl/lib/python3.6/site-packages/sklearn/linear_model/_sag.py:329: ConvergenceWarning: The max_iter was reached which means the coef_ did not converge\n",
      "  \"the coef_ did not converge\", ConvergenceWarning)\n",
      "\n",
      "Hyperband iterations:  75%|███████▌  | 3/4 [00:07<00:02,  2.15s/it]\u001b[A/home/roberto_olayo/miniconda3/envs/automl/lib/python3.6/site-packages/sklearn/linear_model/_sag.py:329: ConvergenceWarning: The max_iter was reached which means the coef_ did not converge\n",
      "  \"the coef_ did not converge\", ConvergenceWarning)\n",
      "\n",
      "Hyperband iterations: 100%|██████████| 4/4 [00:08<00:00,  2.15s/it]\u001b[A\n",
      "Data-Model combinations: 1it [00:08,  8.61s/it]\n",
      "Hyperband iterations:   0%|          | 0/4 [00:00<?, ?it/s]\u001b[A\n",
      "Hyperband iterations:  25%|██▌       | 1/4 [00:03<00:11,  3.77s/it]\u001b[A\n",
      "Hyperband iterations:  50%|█████     | 2/4 [00:06<00:06,  3.00s/it]\u001b[A\n",
      "Hyperband iterations:  75%|███████▌  | 3/4 [00:08<00:02,  2.66s/it]\u001b[A\n",
      "Hyperband iterations: 100%|██████████| 4/4 [00:10<00:00,  2.53s/it]\u001b[A\n",
      "Data-Model combinations: 2it [00:18,  9.50s/it]\n",
      "Hyperband iterations:   0%|          | 0/4 [00:00<?, ?it/s]\u001b[A\n",
      "Hyperband iterations:  25%|██▌       | 1/4 [00:01<00:04,  1.35s/it]\u001b[A\n",
      "Hyperband iterations:  50%|█████     | 2/4 [00:02<00:02,  1.24s/it]\u001b[A\n",
      "Hyperband iterations:  75%|███████▌  | 3/4 [00:03<00:01,  1.11s/it]\u001b[A\n",
      "Hyperband iterations: 100%|██████████| 4/4 [00:05<00:00,  1.36s/it]\u001b[A\n",
      "Data-Model combinations: 3it [00:24,  7.65s/it]\n",
      "Hyperband iterations:   0%|          | 0/4 [00:00<?, ?it/s]\u001b[A\n",
      "Hyperband iterations:  25%|██▌       | 1/4 [00:01<00:04,  1.47s/it]\u001b[A\n",
      "Hyperband iterations:  50%|█████     | 2/4 [00:02<00:02,  1.27s/it]\u001b[A\n",
      "Hyperband iterations:  75%|███████▌  | 3/4 [00:03<00:01,  1.12s/it]\u001b[A\n",
      "Hyperband iterations: 100%|██████████| 4/4 [00:04<00:00,  1.07s/it]\u001b[A\n",
      "Data-Model combinations: 4it [00:28,  6.32s/it]\n",
      "Hyperband iterations:   0%|          | 0/4 [00:00<?, ?it/s]\u001b[A\n",
      "Hyperband iterations:  25%|██▌       | 1/4 [00:03<00:11,  3.75s/it]\u001b[A\n",
      "Hyperband iterations:  50%|█████     | 2/4 [00:06<00:06,  3.04s/it]\u001b[A\n",
      "Hyperband iterations:  75%|███████▌  | 3/4 [00:08<00:02,  2.63s/it]\u001b[A\n",
      "Hyperband iterations: 100%|██████████| 4/4 [00:10<00:00,  2.51s/it]\u001b[A\n",
      "Data-Model combinations: 5it [00:38,  7.67s/it]\n",
      "Hyperband iterations:   0%|          | 0/4 [00:00<?, ?it/s]\u001b[A\n",
      "Hyperband iterations:  25%|██▌       | 1/4 [00:01<00:04,  1.37s/it]\u001b[A\n",
      "Hyperband iterations:  50%|█████     | 2/4 [00:02<00:02,  1.21s/it]\u001b[A\n",
      "Hyperband iterations:  75%|███████▌  | 3/4 [00:03<00:01,  1.11s/it]\u001b[A\n",
      "Hyperband iterations: 100%|██████████| 4/4 [00:05<00:00,  1.36s/it]\u001b[A\n",
      "Data-Model combinations: 6it [00:43,  6.92s/it]\n",
      "Hyperband iterations:   0%|          | 0/4 [00:00<?, ?it/s]\u001b[A\n",
      "Hyperband iterations:  25%|██▌       | 1/4 [00:01<00:03,  1.26s/it]\u001b[A\n",
      "Hyperband iterations:  50%|█████     | 2/4 [00:02<00:02,  1.04s/it]\u001b[A\n",
      "Hyperband iterations:  75%|███████▌  | 3/4 [00:03<00:00,  1.02it/s]\u001b[A\n",
      "Hyperband iterations: 100%|██████████| 4/4 [00:03<00:00,  1.06it/s]\u001b[A\n",
      "Data-Model combinations: 7it [00:47,  5.90s/it]\n",
      "Hyperband iterations:   0%|          | 0/4 [00:00<?, ?it/s]\u001b[A\n",
      "Hyperband iterations:  25%|██▌       | 1/4 [00:03<00:11,  3.84s/it]\u001b[A\n",
      "Hyperband iterations:  50%|█████     | 2/4 [00:06<00:06,  3.09s/it]\u001b[A\n",
      "Hyperband iterations:  75%|███████▌  | 3/4 [00:08<00:02,  2.70s/it]\u001b[A\n",
      "Hyperband iterations: 100%|██████████| 4/4 [00:10<00:00,  2.56s/it]\u001b[A\n",
      "Data-Model combinations: 8it [00:58,  7.28s/it]\n",
      "Hyperband iterations:   0%|          | 0/4 [00:00<?, ?it/s]\u001b[A\n",
      "Hyperband iterations:  25%|██▌       | 1/4 [00:01<00:04,  1.38s/it]\u001b[A\n",
      "Hyperband iterations:  50%|█████     | 2/4 [00:02<00:02,  1.22s/it]\u001b[A\n",
      "Hyperband iterations:  75%|███████▌  | 3/4 [00:03<00:01,  1.11s/it]\u001b[A\n",
      "Hyperband iterations: 100%|██████████| 4/4 [00:05<00:00,  1.34s/it]\u001b[A\n",
      "Data-Model combinations: 9it [01:03,  6.69s/it]\n",
      "Hyperband iterations:   0%|          | 0/4 [00:00<?, ?it/s]\u001b[A\n",
      "Hyperband iterations:  25%|██▌       | 1/4 [00:01<00:03,  1.28s/it]\u001b[A\n",
      "Hyperband iterations:  50%|█████     | 2/4 [00:02<00:02,  1.19s/it]\u001b[A\n",
      "Hyperband iterations:  75%|███████▌  | 3/4 [00:03<00:00,  1.05it/s]\u001b[A\n",
      "Hyperband iterations: 100%|██████████| 4/4 [00:03<00:00,  1.14it/s]\u001b[A\n",
      "Data-Model combinations: 10it [01:06,  5.71s/it]\n",
      "Hyperband iterations:   0%|          | 0/4 [00:00<?, ?it/s]\u001b[A\n",
      "Hyperband iterations:  25%|██▌       | 1/4 [00:03<00:11,  3.85s/it]\u001b[A\n",
      "Hyperband iterations:  50%|█████     | 2/4 [00:06<00:06,  3.09s/it]\u001b[A\n",
      "Hyperband iterations:  75%|███████▌  | 3/4 [00:08<00:02,  2.70s/it]\u001b[A\n",
      "Hyperband iterations: 100%|██████████| 4/4 [00:10<00:00,  2.56s/it]\u001b[A\n",
      "Data-Model combinations: 11it [01:17,  7.10s/it]\n",
      "Hyperband iterations:   0%|          | 0/4 [00:00<?, ?it/s]\u001b[A\n",
      "Hyperband iterations:  25%|██▌       | 1/4 [00:01<00:04,  1.39s/it]\u001b[A\n",
      "Hyperband iterations:  50%|█████     | 2/4 [00:02<00:02,  1.28s/it]\u001b[A\n",
      "Hyperband iterations:  75%|███████▌  | 3/4 [00:03<00:01,  1.17s/it]\u001b[A\n",
      "Hyperband iterations: 100%|██████████| 4/4 [00:05<00:00,  1.40s/it]\u001b[A\n",
      "Data-Model combinations: 12it [01:22,  6.90s/it]\n"
     ]
    },
    {
     "name": "stdout",
     "output_type": "stream",
     "text": [
      "Fold 3\n"
     ]
    },
    {
     "name": "stderr",
     "output_type": "stream",
     "text": [
      "Data-Model combinations: 0it [00:00, ?it/s]\n",
      "Hyperband iterations:   0%|          | 0/4 [00:00<?, ?it/s]\u001b[A\n",
      "Hyperband iterations:  25%|██▌       | 1/4 [00:01<00:04,  1.49s/it]\u001b[A\n",
      "Hyperband iterations:  50%|█████     | 2/4 [00:05<00:05,  2.74s/it]\u001b[A\n",
      "Hyperband iterations:  75%|███████▌  | 3/4 [00:08<00:03,  3.00s/it]\u001b[A\n",
      "Hyperband iterations: 100%|██████████| 4/4 [00:11<00:00,  2.84s/it]\u001b[A\n",
      "Data-Model combinations: 1it [00:11, 11.37s/it]\n",
      "Hyperband iterations:   0%|          | 0/4 [00:00<?, ?it/s]\u001b[A\n",
      "Hyperband iterations:  25%|██▌       | 1/4 [00:03<00:10,  3.39s/it]\u001b[A\n",
      "Hyperband iterations:  50%|█████     | 2/4 [00:05<00:05,  2.82s/it]\u001b[A\n",
      "Hyperband iterations:  75%|███████▌  | 3/4 [00:08<00:02,  2.55s/it]\u001b[A\n",
      "Hyperband iterations: 100%|██████████| 4/4 [00:09<00:00,  2.43s/it]\u001b[A\n",
      "Data-Model combinations: 2it [00:21, 10.41s/it]\n",
      "Hyperband iterations:   0%|          | 0/4 [00:00<?, ?it/s]\u001b[A\n",
      "Hyperband iterations:  25%|██▌       | 1/4 [00:01<00:04,  1.40s/it]\u001b[A\n",
      "Hyperband iterations:  50%|█████     | 2/4 [00:02<00:02,  1.22s/it]\u001b[A\n",
      "Hyperband iterations:  75%|███████▌  | 3/4 [00:03<00:01,  1.11s/it]\u001b[A\n",
      "Hyperband iterations: 100%|██████████| 4/4 [00:05<00:00,  1.35s/it]\u001b[A\n",
      "Data-Model combinations: 3it [00:26,  8.13s/it]\n",
      "Hyperband iterations:   0%|          | 0/4 [00:00<?, ?it/s]\u001b[A\n",
      "Hyperband iterations:  25%|██▌       | 1/4 [00:01<00:04,  1.47s/it]\u001b[A\n",
      "Hyperband iterations:  50%|█████     | 2/4 [00:02<00:02,  1.30s/it]\u001b[A\n",
      "Hyperband iterations:  75%|███████▌  | 3/4 [00:03<00:01,  1.14s/it]\u001b[A\n",
      "Hyperband iterations: 100%|██████████| 4/4 [00:04<00:00,  1.09s/it]\u001b[A\n",
      "Data-Model combinations: 4it [00:30,  6.64s/it]\n",
      "Hyperband iterations:   0%|          | 0/4 [00:00<?, ?it/s]\u001b[A\n",
      "Hyperband iterations:  25%|██▌       | 1/4 [00:03<00:10,  3.37s/it]\u001b[A\n",
      "Hyperband iterations:  50%|█████     | 2/4 [00:05<00:05,  2.83s/it]\u001b[A\n",
      "Hyperband iterations:  75%|███████▌  | 3/4 [00:08<00:02,  2.55s/it]\u001b[A\n",
      "Hyperband iterations: 100%|██████████| 4/4 [00:09<00:00,  2.41s/it]\u001b[A\n",
      "Data-Model combinations: 5it [00:40,  7.72s/it]\n",
      "Hyperband iterations:   0%|          | 0/4 [00:00<?, ?it/s]\u001b[A\n",
      "Hyperband iterations:  25%|██▌       | 1/4 [00:01<00:04,  1.37s/it]\u001b[A\n",
      "Hyperband iterations:  50%|█████     | 2/4 [00:02<00:02,  1.19s/it]\u001b[A\n",
      "Hyperband iterations:  75%|███████▌  | 3/4 [00:03<00:01,  1.10s/it]\u001b[A\n",
      "Hyperband iterations: 100%|██████████| 4/4 [00:05<00:00,  1.34s/it]\u001b[A\n",
      "Data-Model combinations: 6it [00:45,  6.92s/it]\n",
      "Hyperband iterations:   0%|          | 0/4 [00:00<?, ?it/s]\u001b[A\n",
      "Hyperband iterations:  25%|██▌       | 1/4 [00:01<00:03,  1.23s/it]\u001b[A\n",
      "Hyperband iterations:  50%|█████     | 2/4 [00:02<00:02,  1.33s/it]\u001b[A\n",
      "Hyperband iterations:  75%|███████▌  | 3/4 [00:03<00:01,  1.23s/it]\u001b[A\n",
      "Hyperband iterations: 100%|██████████| 4/4 [00:04<00:00,  1.17s/it]\u001b[A\n",
      "Data-Model combinations: 7it [00:50,  6.19s/it]\n",
      "Hyperband iterations:   0%|          | 0/4 [00:00<?, ?it/s]\u001b[A\n",
      "Hyperband iterations:  25%|██▌       | 1/4 [00:03<00:10,  3.39s/it]\u001b[A\n",
      "Hyperband iterations:  50%|█████     | 2/4 [00:05<00:05,  2.85s/it]\u001b[A\n",
      "Hyperband iterations:  75%|███████▌  | 3/4 [00:07<00:02,  2.53s/it]\u001b[A\n",
      "Hyperband iterations: 100%|██████████| 4/4 [00:09<00:00,  2.40s/it]\u001b[A\n",
      "Data-Model combinations: 8it [01:00,  7.28s/it]\n",
      "Hyperband iterations:   0%|          | 0/4 [00:00<?, ?it/s]\u001b[A\n",
      "Hyperband iterations:  25%|██▌       | 1/4 [00:01<00:04,  1.43s/it]\u001b[A\n",
      "Hyperband iterations:  50%|█████     | 2/4 [00:02<00:02,  1.25s/it]\u001b[A\n",
      "Hyperband iterations:  75%|███████▌  | 3/4 [00:03<00:01,  1.14s/it]\u001b[A\n",
      "Hyperband iterations: 100%|██████████| 4/4 [00:05<00:00,  1.38s/it]\u001b[A\n",
      "Data-Model combinations: 9it [01:05,  6.74s/it]\n",
      "Hyperband iterations:   0%|          | 0/4 [00:00<?, ?it/s]\u001b[A\n",
      "Hyperband iterations:  25%|██▌       | 1/4 [00:01<00:03,  1.28s/it]\u001b[A\n",
      "Hyperband iterations:  50%|█████     | 2/4 [00:02<00:02,  1.06s/it]\u001b[A\n",
      "Hyperband iterations:  75%|███████▌  | 3/4 [00:02<00:00,  1.13it/s]\u001b[A\n",
      "Hyperband iterations: 100%|██████████| 4/4 [00:03<00:00,  1.21it/s]\u001b[A\n",
      "Data-Model combinations: 10it [01:09,  5.68s/it]\n",
      "Hyperband iterations:   0%|          | 0/4 [00:00<?, ?it/s]\u001b[A\n",
      "Hyperband iterations:  25%|██▌       | 1/4 [00:03<00:10,  3.34s/it]\u001b[A\n",
      "Hyperband iterations:  50%|█████     | 2/4 [00:05<00:05,  2.86s/it]\u001b[A\n",
      "Hyperband iterations:  75%|███████▌  | 3/4 [00:08<00:02,  2.58s/it]\u001b[A\n",
      "Hyperband iterations: 100%|██████████| 4/4 [00:09<00:00,  2.43s/it]\u001b[A\n",
      "Data-Model combinations: 11it [01:18,  6.93s/it]\n",
      "Hyperband iterations:   0%|          | 0/4 [00:00<?, ?it/s]\u001b[A\n",
      "Hyperband iterations:  25%|██▌       | 1/4 [00:01<00:04,  1.40s/it]\u001b[A\n",
      "Hyperband iterations:  50%|█████     | 2/4 [00:02<00:02,  1.25s/it]\u001b[A\n",
      "Hyperband iterations:  75%|███████▌  | 3/4 [00:03<00:01,  1.13s/it]\u001b[A\n",
      "Hyperband iterations: 100%|██████████| 4/4 [00:05<00:00,  1.38s/it]\u001b[A\n",
      "Data-Model combinations: 12it [01:24,  7.03s/it]\n"
     ]
    },
    {
     "name": "stdout",
     "output_type": "stream",
     "text": [
      "Fold 4\n"
     ]
    },
    {
     "name": "stderr",
     "output_type": "stream",
     "text": [
      "Data-Model combinations: 0it [00:00, ?it/s]\n",
      "Hyperband iterations:   0%|          | 0/4 [00:00<?, ?it/s]\u001b[A\n",
      "Hyperband iterations:  25%|██▌       | 1/4 [00:01<00:05,  1.88s/it]\u001b[A\n",
      "Hyperband iterations:  50%|█████     | 2/4 [00:03<00:03,  1.53s/it]\u001b[A\n",
      "Hyperband iterations:  75%|███████▌  | 3/4 [00:06<00:02,  2.48s/it]\u001b[A\n",
      "Hyperband iterations: 100%|██████████| 4/4 [00:10<00:00,  2.50s/it]\u001b[A\n",
      "Data-Model combinations: 1it [00:10, 10.01s/it]\n",
      "Hyperband iterations:   0%|          | 0/4 [00:00<?, ?it/s]\u001b[A\n",
      "Hyperband iterations:  25%|██▌       | 1/4 [00:03<00:10,  3.36s/it]\u001b[A\n",
      "Hyperband iterations:  50%|█████     | 2/4 [00:05<00:05,  2.88s/it]\u001b[A\n",
      "Hyperband iterations:  75%|███████▌  | 3/4 [00:08<00:02,  2.61s/it]\u001b[A\n",
      "Hyperband iterations: 100%|██████████| 4/4 [00:09<00:00,  2.45s/it]\u001b[A\n",
      "Data-Model combinations: 2it [00:19,  9.89s/it]\n",
      "Hyperband iterations:   0%|          | 0/4 [00:00<?, ?it/s]\u001b[A\n",
      "Hyperband iterations:  25%|██▌       | 1/4 [00:01<00:04,  1.39s/it]\u001b[A\n",
      "Hyperband iterations:  50%|█████     | 2/4 [00:02<00:02,  1.27s/it]\u001b[A\n",
      "Hyperband iterations:  75%|███████▌  | 3/4 [00:03<00:01,  1.13s/it]\u001b[A\n",
      "Hyperband iterations: 100%|██████████| 4/4 [00:05<00:00,  1.38s/it]\u001b[A\n",
      "Data-Model combinations: 3it [00:25,  7.90s/it]\n",
      "Hyperband iterations:   0%|          | 0/4 [00:00<?, ?it/s]\u001b[A\n",
      "Hyperband iterations:  25%|██▌       | 1/4 [00:01<00:04,  1.51s/it]\u001b[A\n",
      "Hyperband iterations:  50%|█████     | 2/4 [00:02<00:02,  1.29s/it]\u001b[A\n",
      "Hyperband iterations:  75%|███████▌  | 3/4 [00:03<00:01,  1.15s/it]\u001b[A\n",
      "Hyperband iterations: 100%|██████████| 4/4 [00:04<00:00,  1.09s/it]\u001b[A\n",
      "Data-Model combinations: 4it [00:29,  6.51s/it]\n",
      "Hyperband iterations:   0%|          | 0/4 [00:00<?, ?it/s]\u001b[A\n",
      "Hyperband iterations:  25%|██▌       | 1/4 [00:03<00:10,  3.36s/it]\u001b[A\n",
      "Hyperband iterations:  50%|█████     | 2/4 [00:05<00:05,  2.90s/it]\u001b[A\n",
      "Hyperband iterations:  75%|███████▌  | 3/4 [00:08<00:02,  2.56s/it]\u001b[A\n",
      "Hyperband iterations: 100%|██████████| 4/4 [00:09<00:00,  2.42s/it]\u001b[A\n",
      "Data-Model combinations: 5it [00:39,  7.66s/it]\n",
      "Hyperband iterations:   0%|          | 0/4 [00:00<?, ?it/s]\u001b[A\n",
      "Hyperband iterations:  25%|██▌       | 1/4 [00:01<00:04,  1.38s/it]\u001b[A\n",
      "Hyperband iterations:  50%|█████     | 2/4 [00:02<00:02,  1.22s/it]\u001b[A\n",
      "Hyperband iterations:  75%|███████▌  | 3/4 [00:03<00:01,  1.12s/it]\u001b[A\n",
      "Hyperband iterations: 100%|██████████| 4/4 [00:05<00:00,  1.37s/it]\u001b[A\n",
      "Data-Model combinations: 6it [00:44,  6.93s/it]\n",
      "Hyperband iterations:   0%|          | 0/4 [00:00<?, ?it/s]\u001b[A\n",
      "Hyperband iterations:  25%|██▌       | 1/4 [00:01<00:04,  1.47s/it]\u001b[A\n",
      "Hyperband iterations:  50%|█████     | 2/4 [00:02<00:02,  1.16s/it]\u001b[A\n",
      "Hyperband iterations:  75%|███████▌  | 3/4 [00:03<00:01,  1.20s/it]\u001b[A\n",
      "Hyperband iterations: 100%|██████████| 4/4 [00:04<00:00,  1.17s/it]\u001b[A\n",
      "Data-Model combinations: 7it [00:49,  6.20s/it]\n",
      "Hyperband iterations:   0%|          | 0/4 [00:00<?, ?it/s]\u001b[A\n",
      "Hyperband iterations:  25%|██▌       | 1/4 [00:03<00:10,  3.34s/it]\u001b[A\n",
      "Hyperband iterations:  50%|█████     | 2/4 [00:05<00:05,  2.85s/it]\u001b[A\n",
      "Hyperband iterations:  75%|███████▌  | 3/4 [00:08<00:02,  2.53s/it]\u001b[A\n",
      "Hyperband iterations: 100%|██████████| 4/4 [00:09<00:00,  2.40s/it]\u001b[A\n",
      "Data-Model combinations: 8it [00:59,  7.29s/it]\n",
      "Hyperband iterations:   0%|          | 0/4 [00:00<?, ?it/s]\u001b[A\n",
      "Hyperband iterations:  25%|██▌       | 1/4 [00:01<00:04,  1.42s/it]\u001b[A\n",
      "Hyperband iterations:  50%|█████     | 2/4 [00:02<00:02,  1.25s/it]\u001b[A\n",
      "Hyperband iterations:  75%|███████▌  | 3/4 [00:03<00:01,  1.12s/it]\u001b[A\n",
      "Hyperband iterations: 100%|██████████| 4/4 [00:05<00:00,  1.38s/it]\u001b[A\n",
      "Data-Model combinations: 9it [01:04,  6.74s/it]\n",
      "Hyperband iterations:   0%|          | 0/4 [00:00<?, ?it/s]\u001b[A\n",
      "Hyperband iterations:  25%|██▌       | 1/4 [00:01<00:03,  1.23s/it]\u001b[A\n",
      "Hyperband iterations:  50%|█████     | 2/4 [00:02<00:02,  1.05s/it]\u001b[A\n",
      "Hyperband iterations:  75%|███████▌  | 3/4 [00:02<00:00,  1.15it/s]\u001b[A\n",
      "Hyperband iterations: 100%|██████████| 4/4 [00:03<00:00,  1.23it/s]\u001b[A\n",
      "Data-Model combinations: 10it [01:08,  5.66s/it]\n",
      "Hyperband iterations:   0%|          | 0/4 [00:00<?, ?it/s]\u001b[A\n",
      "Hyperband iterations:  25%|██▌       | 1/4 [00:03<00:10,  3.41s/it]\u001b[A\n",
      "Hyperband iterations:  50%|█████     | 2/4 [00:05<00:05,  2.90s/it]\u001b[A\n",
      "Hyperband iterations:  75%|███████▌  | 3/4 [00:08<00:02,  2.58s/it]\u001b[A\n",
      "Hyperband iterations: 100%|██████████| 4/4 [00:09<00:00,  2.44s/it]\u001b[A\n",
      "Data-Model combinations: 11it [01:17,  6.92s/it]\n",
      "Hyperband iterations:   0%|          | 0/4 [00:00<?, ?it/s]\u001b[A\n",
      "Hyperband iterations:  25%|██▌       | 1/4 [00:01<00:03,  1.33s/it]\u001b[A\n",
      "Hyperband iterations:  50%|█████     | 2/4 [00:02<00:02,  1.22s/it]\u001b[A\n",
      "Hyperband iterations:  75%|███████▌  | 3/4 [00:03<00:01,  1.11s/it]\u001b[A\n",
      "Hyperband iterations: 100%|██████████| 4/4 [00:05<00:00,  1.36s/it]\u001b[A\n",
      "Data-Model combinations: 12it [01:23,  6.94s/it]\n"
     ]
    }
   ],
   "source": [
    "churn_experiment, churn_automl = kfold_experiments(X_churn, y_churn, kfolds, scorer, automl_dict, voter_clfs,\n",
    "                                                  n_cores=ncores, random_state=42)"
   ]
  },
  {
   "cell_type": "code",
   "execution_count": 10,
   "id": "aae8b055",
   "metadata": {},
   "outputs": [
    {
     "data": {
      "image/png": "[encoded data removed]",
      "text/plain": [
       "<Figure size 720x720 with 1 Axes>"
      ]
     },
     "metadata": {
      "needs_background": "light"
     },
     "output_type": "display_data"
    }
   ],
   "source": [
    "plt.figure(figsize=(10,10))\n",
    "sns.set_theme(style=\"whitegrid\")\n",
    "# plot boxplot\n",
    "bp = sns.boxplot(x=\"validation\", y=\"model\", data=churn_experiment)\n",
    "bp = sns.swarmplot(x=\"validation\", y=\"model\", data=churn_experiment, color=\".25\")\n",
    "bp.get_figure().savefig(\"data/churn_results/base_boxplot.pdf\", bbox_inches='tight')"
   ]
  },
  {
   "cell_type": "code",
   "execution_count": 11,
   "id": "f6f1e529",
   "metadata": {},
   "outputs": [],
   "source": [
    "churn_experiment.to_csv(\"data/churn_experiments.tsv.gz\", sep='\\t')\n",
    "churn_automl.to_csv(\"data/churn_automl.tsv.gz\", sep='\\t')"
   ]
  },
  {
   "cell_type": "code",
   "execution_count": 14,
   "id": "c6362540",
   "metadata": {},
   "outputs": [
    {
     "data": {
      "text/plain": [
       "Index(['iter', 'n_resources', 'mean_fit_time', 'std_fit_time',\n",
       "       'mean_score_time', 'std_score_time', 'param_C', 'param_l1_ratio',\n",
       "       'param_max_iter', 'params', 'split0_test_score', 'split1_test_score',\n",
       "       'split2_test_score', 'split3_test_score', 'mean_test_score',\n",
       "       'std_test_score', 'rank_test_score', 'split0_train_score',\n",
       "       'split1_train_score', 'split2_train_score', 'split3_train_score',\n",
       "       'mean_train_score', 'std_train_score', 'hyperband_iter', 'combination',\n",
       "       'param_bootstrap', 'param_criterion', 'param_max_depth',\n",
       "       'param_max_samples', 'param_n_estimators', 'param_learning_rate',\n",
       "       'param_subsample', 'champion', 'kfold'],\n",
       "      dtype='object')"
      ]
     },
     "execution_count": 14,
     "metadata": {},
     "output_type": "execute_result"
    }
   ],
   "source": [
    "churn_automl.columns"
   ]
  },
  {
   "cell_type": "code",
   "execution_count": 69,
   "id": "d796f97c",
   "metadata": {},
   "outputs": [],
   "source": [
    "xdf = churn_automl.loc[(churn_automl[\"champion\"] == \"champion\") & (churn_automl[\"hyperband_iter\"] == 0),\n",
    "             [\"iter\", \"mean_test_score\"]]"
   ]
  },
  {
   "cell_type": "code",
   "execution_count": 70,
   "id": "224de5a2",
   "metadata": {},
   "outputs": [],
   "source": [
    "mean_iter = xdf.groupby(\"iter\")[\"mean_test_score\"].mean()"
   ]
  },
  {
   "cell_type": "code",
   "execution_count": 71,
   "id": "e0753240",
   "metadata": {},
   "outputs": [],
   "source": [
    "std_iter = xdf.groupby(\"iter\")[\"mean_test_score\"].std()"
   ]
  },
  {
   "cell_type": "code",
   "execution_count": 72,
   "id": "0933ca36",
   "metadata": {},
   "outputs": [],
   "source": [
    "x = mean_iter.index"
   ]
  },
  {
   "cell_type": "code",
   "execution_count": 74,
   "id": "7c350154",
   "metadata": {},
   "outputs": [
    {
     "data": {
      "image/png": "[encoded data removed]",
      "text/plain": [
       "<Figure size 648x360 with 1 Axes>"
      ]
     },
     "metadata": {},
     "output_type": "display_data"
    }
   ],
   "source": [
    "# Compute upper and lower bounds using chosen uncertainty measure: here\n",
    "# it is a fraction of the standard deviation of measurements at each\n",
    "# time point based on the unbiased sample variance\n",
    "lower = mean_iter - std_iter\n",
    "upper = mean_iter + std_iter\n",
    "\n",
    "# Draw plot with error band and extra formatting to match seaborn style\n",
    "fig, ax = plt.subplots(figsize=(9,5))\n",
    "ax.plot(x, mean_iter, label='signal mean')\n",
    "ax.plot(x, lower, color='tab:blue', alpha=0.1)\n",
    "ax.plot(x, upper, color='tab:blue', alpha=0.1)\n",
    "ax.fill_between(x, lower, upper, alpha=0.2)\n",
    "ax.set_xlabel('iter')\n",
    "ax.set_ylabel('validation_error')\n",
    "ax.spines['top'].set_visible(False)\n",
    "ax.spines['right'].set_visible(False)"
   ]
  },
  {
   "cell_type": "code",
   "execution_count": 76,
   "id": "30c75726",
   "metadata": {},
   "outputs": [],
   "source": [
    "ax.get_figure().savefig(\"data/test.pdf\", bbox_inches=\"tight\")"
   ]
  },
  {
   "cell_type": "code",
   "execution_count": 53,
   "id": "d90eeb6c",
   "metadata": {},
   "outputs": [],
   "source": [
    "jeje=xdf[[\"iter\", \"mean_test_score\"]].drop_duplicates()"
   ]
  },
  {
   "cell_type": "code",
   "execution_count": 55,
   "id": "86bd1462",
   "metadata": {},
   "outputs": [
    {
     "data": {
      "text/html": [
       "<div>\n",
       "<style scoped>\n",
       "    .dataframe tbody tr th:only-of-type {\n",
       "        vertical-align: middle;\n",
       "    }\n",
       "\n",
       "    .dataframe tbody tr th {\n",
       "        vertical-align: top;\n",
       "    }\n",
       "\n",
       "    .dataframe thead th {\n",
       "        text-align: right;\n",
       "    }\n",
       "</style>\n",
       "<table border=\"1\" class=\"dataframe\">\n",
       "  <thead>\n",
       "    <tr style=\"text-align: right;\">\n",
       "      <th></th>\n",
       "      <th>iter</th>\n",
       "      <th>mean_test_score</th>\n",
       "    </tr>\n",
       "  </thead>\n",
       "  <tbody>\n",
       "    <tr>\n",
       "      <th>0</th>\n",
       "      <td>0</td>\n",
       "      <td>-1.966284</td>\n",
       "    </tr>\n",
       "    <tr>\n",
       "      <th>1</th>\n",
       "      <td>0</td>\n",
       "      <td>-2.965653</td>\n",
       "    </tr>\n",
       "    <tr>\n",
       "      <th>2</th>\n",
       "      <td>0</td>\n",
       "      <td>-0.746925</td>\n",
       "    </tr>\n",
       "    <tr>\n",
       "      <th>3</th>\n",
       "      <td>0</td>\n",
       "      <td>-0.327636</td>\n",
       "    </tr>\n",
       "    <tr>\n",
       "      <th>4</th>\n",
       "      <td>0</td>\n",
       "      <td>-0.957811</td>\n",
       "    </tr>\n",
       "    <tr>\n",
       "      <th>...</th>\n",
       "      <td>...</td>\n",
       "      <td>...</td>\n",
       "    </tr>\n",
       "    <tr>\n",
       "      <th>26</th>\n",
       "      <td>2</td>\n",
       "      <td>-0.280345</td>\n",
       "    </tr>\n",
       "    <tr>\n",
       "      <th>27</th>\n",
       "      <td>2</td>\n",
       "      <td>-0.252690</td>\n",
       "    </tr>\n",
       "    <tr>\n",
       "      <th>28</th>\n",
       "      <td>3</td>\n",
       "      <td>-0.237237</td>\n",
       "    </tr>\n",
       "    <tr>\n",
       "      <th>29</th>\n",
       "      <td>3</td>\n",
       "      <td>-0.221183</td>\n",
       "    </tr>\n",
       "    <tr>\n",
       "      <th>30</th>\n",
       "      <td>4</td>\n",
       "      <td>-0.191015</td>\n",
       "    </tr>\n",
       "  </tbody>\n",
       "</table>\n",
       "<p>155 rows × 2 columns</p>\n",
       "</div>"
      ],
      "text/plain": [
       "    iter  mean_test_score\n",
       "0      0        -1.966284\n",
       "1      0        -2.965653\n",
       "2      0        -0.746925\n",
       "3      0        -0.327636\n",
       "4      0        -0.957811\n",
       "..   ...              ...\n",
       "26     2        -0.280345\n",
       "27     2        -0.252690\n",
       "28     3        -0.237237\n",
       "29     3        -0.221183\n",
       "30     4        -0.191015\n",
       "\n",
       "[155 rows x 2 columns]"
      ]
     },
     "execution_count": 55,
     "metadata": {},
     "output_type": "execute_result"
    }
   ],
   "source": [
    "jeje"
   ]
  },
  {
   "cell_type": "code",
   "execution_count": 54,
   "id": "28287b70",
   "metadata": {},
   "outputs": [
    {
     "ename": "ValueError",
     "evalue": "cannot reindex from a duplicate axis",
     "output_type": "error",
     "traceback": [
      "\u001b[0;31m---------------------------------------------------------------------------\u001b[0m",
      "\u001b[0;31mValueError\u001b[0m                                Traceback (most recent call last)",
      "\u001b[0;32m<ipython-input-54-5a3b8b62c247>\u001b[0m in \u001b[0;36m<module>\u001b[0;34m\u001b[0m\n\u001b[0;32m----> 1\u001b[0;31m \u001b[0msns\u001b[0m\u001b[0;34m.\u001b[0m\u001b[0mlineplot\u001b[0m\u001b[0;34m(\u001b[0m\u001b[0mx\u001b[0m\u001b[0;34m=\u001b[0m\u001b[0;34m\"iter\"\u001b[0m\u001b[0;34m,\u001b[0m \u001b[0my\u001b[0m\u001b[0;34m=\u001b[0m\u001b[0;34m\"mean_test_score\"\u001b[0m\u001b[0;34m,\u001b[0m \u001b[0mdata\u001b[0m\u001b[0;34m=\u001b[0m\u001b[0mjeje\u001b[0m\u001b[0;34m)\u001b[0m\u001b[0;34m\u001b[0m\u001b[0;34m\u001b[0m\u001b[0m\n\u001b[0m",
      "\u001b[0;32m~/miniconda3/envs/automl/lib/python3.6/site-packages/seaborn/_decorators.py\u001b[0m in \u001b[0;36minner_f\u001b[0;34m(*args, **kwargs)\u001b[0m\n\u001b[1;32m     44\u001b[0m             )\n\u001b[1;32m     45\u001b[0m         \u001b[0mkwargs\u001b[0m\u001b[0;34m.\u001b[0m\u001b[0mupdate\u001b[0m\u001b[0;34m(\u001b[0m\u001b[0;34m{\u001b[0m\u001b[0mk\u001b[0m\u001b[0;34m:\u001b[0m \u001b[0marg\u001b[0m \u001b[0;32mfor\u001b[0m \u001b[0mk\u001b[0m\u001b[0;34m,\u001b[0m \u001b[0marg\u001b[0m \u001b[0;32min\u001b[0m \u001b[0mzip\u001b[0m\u001b[0;34m(\u001b[0m\u001b[0msig\u001b[0m\u001b[0;34m.\u001b[0m\u001b[0mparameters\u001b[0m\u001b[0;34m,\u001b[0m \u001b[0margs\u001b[0m\u001b[0;34m)\u001b[0m\u001b[0;34m}\u001b[0m\u001b[0;34m)\u001b[0m\u001b[0;34m\u001b[0m\u001b[0;34m\u001b[0m\u001b[0m\n\u001b[0;32m---> 46\u001b[0;31m         \u001b[0;32mreturn\u001b[0m \u001b[0mf\u001b[0m\u001b[0;34m(\u001b[0m\u001b[0;34m**\u001b[0m\u001b[0mkwargs\u001b[0m\u001b[0;34m)\u001b[0m\u001b[0;34m\u001b[0m\u001b[0;34m\u001b[0m\u001b[0m\n\u001b[0m\u001b[1;32m     47\u001b[0m     \u001b[0;32mreturn\u001b[0m \u001b[0minner_f\u001b[0m\u001b[0;34m\u001b[0m\u001b[0;34m\u001b[0m\u001b[0m\n\u001b[1;32m     48\u001b[0m \u001b[0;34m\u001b[0m\u001b[0m\n",
      "\u001b[0;32m~/miniconda3/envs/automl/lib/python3.6/site-packages/seaborn/relational.py\u001b[0m in \u001b[0;36mlineplot\u001b[0;34m(x, y, hue, size, style, data, palette, hue_order, hue_norm, sizes, size_order, size_norm, dashes, markers, style_order, units, estimator, ci, n_boot, seed, sort, err_style, err_kws, legend, ax, **kwargs)\u001b[0m\n\u001b[1;32m    708\u001b[0m     \u001b[0mp\u001b[0m\u001b[0;34m.\u001b[0m\u001b[0m_attach\u001b[0m\u001b[0;34m(\u001b[0m\u001b[0max\u001b[0m\u001b[0;34m)\u001b[0m\u001b[0;34m\u001b[0m\u001b[0;34m\u001b[0m\u001b[0m\n\u001b[1;32m    709\u001b[0m \u001b[0;34m\u001b[0m\u001b[0m\n\u001b[0;32m--> 710\u001b[0;31m     \u001b[0mp\u001b[0m\u001b[0;34m.\u001b[0m\u001b[0mplot\u001b[0m\u001b[0;34m(\u001b[0m\u001b[0max\u001b[0m\u001b[0;34m,\u001b[0m \u001b[0mkwargs\u001b[0m\u001b[0;34m)\u001b[0m\u001b[0;34m\u001b[0m\u001b[0;34m\u001b[0m\u001b[0m\n\u001b[0m\u001b[1;32m    711\u001b[0m     \u001b[0;32mreturn\u001b[0m \u001b[0max\u001b[0m\u001b[0;34m\u001b[0m\u001b[0;34m\u001b[0m\u001b[0m\n\u001b[1;32m    712\u001b[0m \u001b[0;34m\u001b[0m\u001b[0m\n",
      "\u001b[0;32m~/miniconda3/envs/automl/lib/python3.6/site-packages/seaborn/relational.py\u001b[0m in \u001b[0;36mplot\u001b[0;34m(self, ax, kws)\u001b[0m\n\u001b[1;32m    469\u001b[0m         \u001b[0;31m# Loop over the semantic subsets and add to the plot\u001b[0m\u001b[0;34m\u001b[0m\u001b[0;34m\u001b[0m\u001b[0;34m\u001b[0m\u001b[0m\n\u001b[1;32m    470\u001b[0m         \u001b[0mgrouping_vars\u001b[0m \u001b[0;34m=\u001b[0m \u001b[0;34m\"hue\"\u001b[0m\u001b[0;34m,\u001b[0m \u001b[0;34m\"size\"\u001b[0m\u001b[0;34m,\u001b[0m \u001b[0;34m\"style\"\u001b[0m\u001b[0;34m\u001b[0m\u001b[0;34m\u001b[0m\u001b[0m\n\u001b[0;32m--> 471\u001b[0;31m         \u001b[0;32mfor\u001b[0m \u001b[0msub_vars\u001b[0m\u001b[0;34m,\u001b[0m \u001b[0msub_data\u001b[0m \u001b[0;32min\u001b[0m \u001b[0mself\u001b[0m\u001b[0;34m.\u001b[0m\u001b[0miter_data\u001b[0m\u001b[0;34m(\u001b[0m\u001b[0mgrouping_vars\u001b[0m\u001b[0;34m,\u001b[0m \u001b[0mfrom_comp_data\u001b[0m\u001b[0;34m=\u001b[0m\u001b[0;32mTrue\u001b[0m\u001b[0;34m)\u001b[0m\u001b[0;34m:\u001b[0m\u001b[0;34m\u001b[0m\u001b[0;34m\u001b[0m\u001b[0m\n\u001b[0m\u001b[1;32m    472\u001b[0m \u001b[0;34m\u001b[0m\u001b[0m\n\u001b[1;32m    473\u001b[0m             \u001b[0;32mif\u001b[0m \u001b[0mself\u001b[0m\u001b[0;34m.\u001b[0m\u001b[0msort\u001b[0m\u001b[0;34m:\u001b[0m\u001b[0;34m\u001b[0m\u001b[0;34m\u001b[0m\u001b[0m\n",
      "\u001b[0;32m~/miniconda3/envs/automl/lib/python3.6/site-packages/seaborn/_core.py\u001b[0m in \u001b[0;36miter_data\u001b[0;34m(self, grouping_vars, reverse, from_comp_data)\u001b[0m\n\u001b[1;32m    981\u001b[0m \u001b[0;34m\u001b[0m\u001b[0m\n\u001b[1;32m    982\u001b[0m         \u001b[0;32mif\u001b[0m \u001b[0mfrom_comp_data\u001b[0m\u001b[0;34m:\u001b[0m\u001b[0;34m\u001b[0m\u001b[0;34m\u001b[0m\u001b[0m\n\u001b[0;32m--> 983\u001b[0;31m             \u001b[0mdata\u001b[0m \u001b[0;34m=\u001b[0m \u001b[0mself\u001b[0m\u001b[0;34m.\u001b[0m\u001b[0mcomp_data\u001b[0m\u001b[0;34m\u001b[0m\u001b[0;34m\u001b[0m\u001b[0m\n\u001b[0m\u001b[1;32m    984\u001b[0m         \u001b[0;32melse\u001b[0m\u001b[0;34m:\u001b[0m\u001b[0;34m\u001b[0m\u001b[0;34m\u001b[0m\u001b[0m\n\u001b[1;32m    985\u001b[0m             \u001b[0mdata\u001b[0m \u001b[0;34m=\u001b[0m \u001b[0mself\u001b[0m\u001b[0;34m.\u001b[0m\u001b[0mplot_data\u001b[0m\u001b[0;34m\u001b[0m\u001b[0;34m\u001b[0m\u001b[0m\n",
      "\u001b[0;32m~/miniconda3/envs/automl/lib/python3.6/site-packages/seaborn/_core.py\u001b[0m in \u001b[0;36mcomp_data\u001b[0;34m(self)\u001b[0m\n\u001b[1;32m   1055\u001b[0m                     \u001b[0morig\u001b[0m \u001b[0;34m=\u001b[0m \u001b[0mself\u001b[0m\u001b[0;34m.\u001b[0m\u001b[0mplot_data\u001b[0m\u001b[0;34m[\u001b[0m\u001b[0mvar\u001b[0m\u001b[0;34m]\u001b[0m\u001b[0;34m.\u001b[0m\u001b[0mdropna\u001b[0m\u001b[0;34m(\u001b[0m\u001b[0;34m)\u001b[0m\u001b[0;34m\u001b[0m\u001b[0;34m\u001b[0m\u001b[0m\n\u001b[1;32m   1056\u001b[0m                 \u001b[0mcomp_col\u001b[0m \u001b[0;34m=\u001b[0m \u001b[0mpd\u001b[0m\u001b[0;34m.\u001b[0m\u001b[0mSeries\u001b[0m\u001b[0;34m(\u001b[0m\u001b[0mindex\u001b[0m\u001b[0;34m=\u001b[0m\u001b[0morig\u001b[0m\u001b[0;34m.\u001b[0m\u001b[0mindex\u001b[0m\u001b[0;34m,\u001b[0m \u001b[0mdtype\u001b[0m\u001b[0;34m=\u001b[0m\u001b[0mfloat\u001b[0m\u001b[0;34m,\u001b[0m \u001b[0mname\u001b[0m\u001b[0;34m=\u001b[0m\u001b[0mvar\u001b[0m\u001b[0;34m)\u001b[0m\u001b[0;34m\u001b[0m\u001b[0;34m\u001b[0m\u001b[0m\n\u001b[0;32m-> 1057\u001b[0;31m                 \u001b[0mcomp_col\u001b[0m\u001b[0;34m.\u001b[0m\u001b[0mloc\u001b[0m\u001b[0;34m[\u001b[0m\u001b[0morig\u001b[0m\u001b[0;34m.\u001b[0m\u001b[0mindex\u001b[0m\u001b[0;34m]\u001b[0m \u001b[0;34m=\u001b[0m \u001b[0mpd\u001b[0m\u001b[0;34m.\u001b[0m\u001b[0mto_numeric\u001b[0m\u001b[0;34m(\u001b[0m\u001b[0maxis\u001b[0m\u001b[0;34m.\u001b[0m\u001b[0mconvert_units\u001b[0m\u001b[0;34m(\u001b[0m\u001b[0morig\u001b[0m\u001b[0;34m)\u001b[0m\u001b[0;34m)\u001b[0m\u001b[0;34m\u001b[0m\u001b[0;34m\u001b[0m\u001b[0m\n\u001b[0m\u001b[1;32m   1058\u001b[0m \u001b[0;34m\u001b[0m\u001b[0m\n\u001b[1;32m   1059\u001b[0m                 \u001b[0;32mif\u001b[0m \u001b[0maxis\u001b[0m\u001b[0;34m.\u001b[0m\u001b[0mget_scale\u001b[0m\u001b[0;34m(\u001b[0m\u001b[0;34m)\u001b[0m \u001b[0;34m==\u001b[0m \u001b[0;34m\"log\"\u001b[0m\u001b[0;34m:\u001b[0m\u001b[0;34m\u001b[0m\u001b[0;34m\u001b[0m\u001b[0m\n",
      "\u001b[0;32m~/miniconda3/envs/automl/lib/python3.6/site-packages/pandas/core/indexing.py\u001b[0m in \u001b[0;36m__setitem__\u001b[0;34m(self, key, value)\u001b[0m\n\u001b[1;32m    668\u001b[0m \u001b[0;34m\u001b[0m\u001b[0m\n\u001b[1;32m    669\u001b[0m         \u001b[0miloc\u001b[0m \u001b[0;34m=\u001b[0m \u001b[0mself\u001b[0m \u001b[0;32mif\u001b[0m \u001b[0mself\u001b[0m\u001b[0;34m.\u001b[0m\u001b[0mname\u001b[0m \u001b[0;34m==\u001b[0m \u001b[0;34m\"iloc\"\u001b[0m \u001b[0;32melse\u001b[0m \u001b[0mself\u001b[0m\u001b[0;34m.\u001b[0m\u001b[0mobj\u001b[0m\u001b[0;34m.\u001b[0m\u001b[0miloc\u001b[0m\u001b[0;34m\u001b[0m\u001b[0;34m\u001b[0m\u001b[0m\n\u001b[0;32m--> 670\u001b[0;31m         \u001b[0miloc\u001b[0m\u001b[0;34m.\u001b[0m\u001b[0m_setitem_with_indexer\u001b[0m\u001b[0;34m(\u001b[0m\u001b[0mindexer\u001b[0m\u001b[0;34m,\u001b[0m \u001b[0mvalue\u001b[0m\u001b[0;34m)\u001b[0m\u001b[0;34m\u001b[0m\u001b[0;34m\u001b[0m\u001b[0m\n\u001b[0m\u001b[1;32m    671\u001b[0m \u001b[0;34m\u001b[0m\u001b[0m\n\u001b[1;32m    672\u001b[0m     \u001b[0;32mdef\u001b[0m \u001b[0m_validate_key\u001b[0m\u001b[0;34m(\u001b[0m\u001b[0mself\u001b[0m\u001b[0;34m,\u001b[0m \u001b[0mkey\u001b[0m\u001b[0;34m,\u001b[0m \u001b[0maxis\u001b[0m\u001b[0;34m:\u001b[0m \u001b[0mint\u001b[0m\u001b[0;34m)\u001b[0m\u001b[0;34m:\u001b[0m\u001b[0;34m\u001b[0m\u001b[0;34m\u001b[0m\u001b[0m\n",
      "\u001b[0;32m~/miniconda3/envs/automl/lib/python3.6/site-packages/pandas/core/indexing.py\u001b[0m in \u001b[0;36m_setitem_with_indexer\u001b[0;34m(self, indexer, value)\u001b[0m\n\u001b[1;32m   1788\u001b[0m                 \u001b[0;31m# setting for extensionarrays that store dicts. Need to decide\u001b[0m\u001b[0;34m\u001b[0m\u001b[0;34m\u001b[0m\u001b[0;34m\u001b[0m\u001b[0m\n\u001b[1;32m   1789\u001b[0m                 \u001b[0;31m# if it's worth supporting that.\u001b[0m\u001b[0;34m\u001b[0m\u001b[0;34m\u001b[0m\u001b[0;34m\u001b[0m\u001b[0m\n\u001b[0;32m-> 1790\u001b[0;31m                 \u001b[0mvalue\u001b[0m \u001b[0;34m=\u001b[0m \u001b[0mself\u001b[0m\u001b[0;34m.\u001b[0m\u001b[0m_align_series\u001b[0m\u001b[0;34m(\u001b[0m\u001b[0mindexer\u001b[0m\u001b[0;34m,\u001b[0m \u001b[0mSeries\u001b[0m\u001b[0;34m(\u001b[0m\u001b[0mvalue\u001b[0m\u001b[0;34m)\u001b[0m\u001b[0;34m)\u001b[0m\u001b[0;34m\u001b[0m\u001b[0;34m\u001b[0m\u001b[0m\n\u001b[0m\u001b[1;32m   1791\u001b[0m \u001b[0;34m\u001b[0m\u001b[0m\n\u001b[1;32m   1792\u001b[0m             \u001b[0;32melif\u001b[0m \u001b[0misinstance\u001b[0m\u001b[0;34m(\u001b[0m\u001b[0mvalue\u001b[0m\u001b[0;34m,\u001b[0m \u001b[0mABCDataFrame\u001b[0m\u001b[0;34m)\u001b[0m\u001b[0;34m:\u001b[0m\u001b[0;34m\u001b[0m\u001b[0;34m\u001b[0m\u001b[0m\n",
      "\u001b[0;32m~/miniconda3/envs/automl/lib/python3.6/site-packages/pandas/core/indexing.py\u001b[0m in \u001b[0;36m_align_series\u001b[0;34m(self, indexer, ser, multiindex_indexer)\u001b[0m\n\u001b[1;32m   1907\u001b[0m             \u001b[0;31m# series, so need to broadcast (see GH5206)\u001b[0m\u001b[0;34m\u001b[0m\u001b[0;34m\u001b[0m\u001b[0;34m\u001b[0m\u001b[0m\n\u001b[1;32m   1908\u001b[0m             \u001b[0;32mif\u001b[0m \u001b[0msum_aligners\u001b[0m \u001b[0;34m==\u001b[0m \u001b[0mself\u001b[0m\u001b[0;34m.\u001b[0m\u001b[0mndim\u001b[0m \u001b[0;32mand\u001b[0m \u001b[0mall\u001b[0m\u001b[0;34m(\u001b[0m\u001b[0mis_sequence\u001b[0m\u001b[0;34m(\u001b[0m\u001b[0m_\u001b[0m\u001b[0;34m)\u001b[0m \u001b[0;32mfor\u001b[0m \u001b[0m_\u001b[0m \u001b[0;32min\u001b[0m \u001b[0mindexer\u001b[0m\u001b[0;34m)\u001b[0m\u001b[0;34m:\u001b[0m\u001b[0;34m\u001b[0m\u001b[0;34m\u001b[0m\u001b[0m\n\u001b[0;32m-> 1909\u001b[0;31m                 \u001b[0mser\u001b[0m \u001b[0;34m=\u001b[0m \u001b[0mser\u001b[0m\u001b[0;34m.\u001b[0m\u001b[0mreindex\u001b[0m\u001b[0;34m(\u001b[0m\u001b[0mobj\u001b[0m\u001b[0;34m.\u001b[0m\u001b[0maxes\u001b[0m\u001b[0;34m[\u001b[0m\u001b[0;36m0\u001b[0m\u001b[0;34m]\u001b[0m\u001b[0;34m[\u001b[0m\u001b[0mindexer\u001b[0m\u001b[0;34m[\u001b[0m\u001b[0;36m0\u001b[0m\u001b[0;34m]\u001b[0m\u001b[0;34m]\u001b[0m\u001b[0;34m,\u001b[0m \u001b[0mcopy\u001b[0m\u001b[0;34m=\u001b[0m\u001b[0;32mTrue\u001b[0m\u001b[0;34m)\u001b[0m\u001b[0;34m.\u001b[0m\u001b[0m_values\u001b[0m\u001b[0;34m\u001b[0m\u001b[0;34m\u001b[0m\u001b[0m\n\u001b[0m\u001b[1;32m   1910\u001b[0m \u001b[0;34m\u001b[0m\u001b[0m\n\u001b[1;32m   1911\u001b[0m                 \u001b[0;31m# single indexer\u001b[0m\u001b[0;34m\u001b[0m\u001b[0;34m\u001b[0m\u001b[0;34m\u001b[0m\u001b[0m\n",
      "\u001b[0;32m~/miniconda3/envs/automl/lib/python3.6/site-packages/pandas/core/series.py\u001b[0m in \u001b[0;36mreindex\u001b[0;34m(self, index, **kwargs)\u001b[0m\n\u001b[1;32m   4410\u001b[0m     )\n\u001b[1;32m   4411\u001b[0m     \u001b[0;32mdef\u001b[0m \u001b[0mreindex\u001b[0m\u001b[0;34m(\u001b[0m\u001b[0mself\u001b[0m\u001b[0;34m,\u001b[0m \u001b[0mindex\u001b[0m\u001b[0;34m=\u001b[0m\u001b[0;32mNone\u001b[0m\u001b[0;34m,\u001b[0m \u001b[0;34m**\u001b[0m\u001b[0mkwargs\u001b[0m\u001b[0;34m)\u001b[0m\u001b[0;34m:\u001b[0m\u001b[0;34m\u001b[0m\u001b[0;34m\u001b[0m\u001b[0m\n\u001b[0;32m-> 4412\u001b[0;31m         \u001b[0;32mreturn\u001b[0m \u001b[0msuper\u001b[0m\u001b[0;34m(\u001b[0m\u001b[0;34m)\u001b[0m\u001b[0;34m.\u001b[0m\u001b[0mreindex\u001b[0m\u001b[0;34m(\u001b[0m\u001b[0mindex\u001b[0m\u001b[0;34m=\u001b[0m\u001b[0mindex\u001b[0m\u001b[0;34m,\u001b[0m \u001b[0;34m**\u001b[0m\u001b[0mkwargs\u001b[0m\u001b[0;34m)\u001b[0m\u001b[0;34m\u001b[0m\u001b[0;34m\u001b[0m\u001b[0m\n\u001b[0m\u001b[1;32m   4413\u001b[0m \u001b[0;34m\u001b[0m\u001b[0m\n\u001b[1;32m   4414\u001b[0m     def drop(\n",
      "\u001b[0;32m~/miniconda3/envs/automl/lib/python3.6/site-packages/pandas/core/generic.py\u001b[0m in \u001b[0;36mreindex\u001b[0;34m(self, *args, **kwargs)\u001b[0m\n\u001b[1;32m   4462\u001b[0m         \u001b[0;31m# perform the reindex on the axes\u001b[0m\u001b[0;34m\u001b[0m\u001b[0;34m\u001b[0m\u001b[0;34m\u001b[0m\u001b[0m\n\u001b[1;32m   4463\u001b[0m         return self._reindex_axes(\n\u001b[0;32m-> 4464\u001b[0;31m             \u001b[0maxes\u001b[0m\u001b[0;34m,\u001b[0m \u001b[0mlevel\u001b[0m\u001b[0;34m,\u001b[0m \u001b[0mlimit\u001b[0m\u001b[0;34m,\u001b[0m \u001b[0mtolerance\u001b[0m\u001b[0;34m,\u001b[0m \u001b[0mmethod\u001b[0m\u001b[0;34m,\u001b[0m \u001b[0mfill_value\u001b[0m\u001b[0;34m,\u001b[0m \u001b[0mcopy\u001b[0m\u001b[0;34m\u001b[0m\u001b[0;34m\u001b[0m\u001b[0m\n\u001b[0m\u001b[1;32m   4465\u001b[0m         ).__finalize__(self, method=\"reindex\")\n\u001b[1;32m   4466\u001b[0m \u001b[0;34m\u001b[0m\u001b[0m\n",
      "\u001b[0;32m~/miniconda3/envs/automl/lib/python3.6/site-packages/pandas/core/generic.py\u001b[0m in \u001b[0;36m_reindex_axes\u001b[0;34m(self, axes, level, limit, tolerance, method, fill_value, copy)\u001b[0m\n\u001b[1;32m   4485\u001b[0m                 \u001b[0mfill_value\u001b[0m\u001b[0;34m=\u001b[0m\u001b[0mfill_value\u001b[0m\u001b[0;34m,\u001b[0m\u001b[0;34m\u001b[0m\u001b[0;34m\u001b[0m\u001b[0m\n\u001b[1;32m   4486\u001b[0m                 \u001b[0mcopy\u001b[0m\u001b[0;34m=\u001b[0m\u001b[0mcopy\u001b[0m\u001b[0;34m,\u001b[0m\u001b[0;34m\u001b[0m\u001b[0;34m\u001b[0m\u001b[0m\n\u001b[0;32m-> 4487\u001b[0;31m                 \u001b[0mallow_dups\u001b[0m\u001b[0;34m=\u001b[0m\u001b[0;32mFalse\u001b[0m\u001b[0;34m,\u001b[0m\u001b[0;34m\u001b[0m\u001b[0;34m\u001b[0m\u001b[0m\n\u001b[0m\u001b[1;32m   4488\u001b[0m             )\n\u001b[1;32m   4489\u001b[0m \u001b[0;34m\u001b[0m\u001b[0m\n",
      "\u001b[0;32m~/miniconda3/envs/automl/lib/python3.6/site-packages/pandas/core/generic.py\u001b[0m in \u001b[0;36m_reindex_with_indexers\u001b[0;34m(self, reindexers, fill_value, copy, allow_dups)\u001b[0m\n\u001b[1;32m   4530\u001b[0m                 \u001b[0mfill_value\u001b[0m\u001b[0;34m=\u001b[0m\u001b[0mfill_value\u001b[0m\u001b[0;34m,\u001b[0m\u001b[0;34m\u001b[0m\u001b[0;34m\u001b[0m\u001b[0m\n\u001b[1;32m   4531\u001b[0m                 \u001b[0mallow_dups\u001b[0m\u001b[0;34m=\u001b[0m\u001b[0mallow_dups\u001b[0m\u001b[0;34m,\u001b[0m\u001b[0;34m\u001b[0m\u001b[0;34m\u001b[0m\u001b[0m\n\u001b[0;32m-> 4532\u001b[0;31m                 \u001b[0mcopy\u001b[0m\u001b[0;34m=\u001b[0m\u001b[0mcopy\u001b[0m\u001b[0;34m,\u001b[0m\u001b[0;34m\u001b[0m\u001b[0;34m\u001b[0m\u001b[0m\n\u001b[0m\u001b[1;32m   4533\u001b[0m             )\n\u001b[1;32m   4534\u001b[0m             \u001b[0;31m# If we've made a copy once, no need to make another one\u001b[0m\u001b[0;34m\u001b[0m\u001b[0;34m\u001b[0m\u001b[0;34m\u001b[0m\u001b[0m\n",
      "\u001b[0;32m~/miniconda3/envs/automl/lib/python3.6/site-packages/pandas/core/internals/managers.py\u001b[0m in \u001b[0;36mreindex_indexer\u001b[0;34m(self, new_axis, indexer, axis, fill_value, allow_dups, copy, consolidate)\u001b[0m\n\u001b[1;32m   1283\u001b[0m         \u001b[0;31m# some axes don't allow reindexing with dups\u001b[0m\u001b[0;34m\u001b[0m\u001b[0;34m\u001b[0m\u001b[0;34m\u001b[0m\u001b[0m\n\u001b[1;32m   1284\u001b[0m         \u001b[0;32mif\u001b[0m \u001b[0;32mnot\u001b[0m \u001b[0mallow_dups\u001b[0m\u001b[0;34m:\u001b[0m\u001b[0;34m\u001b[0m\u001b[0;34m\u001b[0m\u001b[0m\n\u001b[0;32m-> 1285\u001b[0;31m             \u001b[0mself\u001b[0m\u001b[0;34m.\u001b[0m\u001b[0maxes\u001b[0m\u001b[0;34m[\u001b[0m\u001b[0maxis\u001b[0m\u001b[0;34m]\u001b[0m\u001b[0;34m.\u001b[0m\u001b[0m_can_reindex\u001b[0m\u001b[0;34m(\u001b[0m\u001b[0mindexer\u001b[0m\u001b[0;34m)\u001b[0m\u001b[0;34m\u001b[0m\u001b[0;34m\u001b[0m\u001b[0m\n\u001b[0m\u001b[1;32m   1286\u001b[0m \u001b[0;34m\u001b[0m\u001b[0m\n\u001b[1;32m   1287\u001b[0m         \u001b[0;32mif\u001b[0m \u001b[0maxis\u001b[0m \u001b[0;34m>=\u001b[0m \u001b[0mself\u001b[0m\u001b[0;34m.\u001b[0m\u001b[0mndim\u001b[0m\u001b[0;34m:\u001b[0m\u001b[0;34m\u001b[0m\u001b[0;34m\u001b[0m\u001b[0m\n",
      "\u001b[0;32m~/miniconda3/envs/automl/lib/python3.6/site-packages/pandas/core/indexes/base.py\u001b[0m in \u001b[0;36m_can_reindex\u001b[0;34m(self, indexer)\u001b[0m\n\u001b[1;32m   3290\u001b[0m         \u001b[0;31m# trying to reindex on an axis with duplicates\u001b[0m\u001b[0;34m\u001b[0m\u001b[0;34m\u001b[0m\u001b[0;34m\u001b[0m\u001b[0m\n\u001b[1;32m   3291\u001b[0m         \u001b[0;32mif\u001b[0m \u001b[0;32mnot\u001b[0m \u001b[0mself\u001b[0m\u001b[0;34m.\u001b[0m\u001b[0mis_unique\u001b[0m \u001b[0;32mand\u001b[0m \u001b[0mlen\u001b[0m\u001b[0;34m(\u001b[0m\u001b[0mindexer\u001b[0m\u001b[0;34m)\u001b[0m\u001b[0;34m:\u001b[0m\u001b[0;34m\u001b[0m\u001b[0;34m\u001b[0m\u001b[0m\n\u001b[0;32m-> 3292\u001b[0;31m             \u001b[0;32mraise\u001b[0m \u001b[0mValueError\u001b[0m\u001b[0;34m(\u001b[0m\u001b[0;34m\"cannot reindex from a duplicate axis\"\u001b[0m\u001b[0;34m)\u001b[0m\u001b[0;34m\u001b[0m\u001b[0;34m\u001b[0m\u001b[0m\n\u001b[0m\u001b[1;32m   3293\u001b[0m \u001b[0;34m\u001b[0m\u001b[0m\n\u001b[1;32m   3294\u001b[0m     \u001b[0;32mdef\u001b[0m \u001b[0mreindex\u001b[0m\u001b[0;34m(\u001b[0m\u001b[0mself\u001b[0m\u001b[0;34m,\u001b[0m \u001b[0mtarget\u001b[0m\u001b[0;34m,\u001b[0m \u001b[0mmethod\u001b[0m\u001b[0;34m=\u001b[0m\u001b[0;32mNone\u001b[0m\u001b[0;34m,\u001b[0m \u001b[0mlevel\u001b[0m\u001b[0;34m=\u001b[0m\u001b[0;32mNone\u001b[0m\u001b[0;34m,\u001b[0m \u001b[0mlimit\u001b[0m\u001b[0;34m=\u001b[0m\u001b[0;32mNone\u001b[0m\u001b[0;34m,\u001b[0m \u001b[0mtolerance\u001b[0m\u001b[0;34m=\u001b[0m\u001b[0;32mNone\u001b[0m\u001b[0;34m)\u001b[0m\u001b[0;34m:\u001b[0m\u001b[0;34m\u001b[0m\u001b[0;34m\u001b[0m\u001b[0m\n",
      "\u001b[0;31mValueError\u001b[0m: cannot reindex from a duplicate axis"
     ]
    },
    {
     "data": {
      "image/png": "[encoded data removed]",
      "text/plain": [
       "<Figure size 432x288 with 1 Axes>"
      ]
     },
     "metadata": {},
     "output_type": "display_data"
    }
   ],
   "source": [
    "sns.lineplot(x=\"iter\", y=\"mean_test_score\", data=jeje)"
   ]
  },
  {
   "cell_type": "code",
   "execution_count": 44,
   "id": "ae4a930a",
   "metadata": {},
   "outputs": [
    {
     "ename": "ValueError",
     "evalue": "cannot reindex from a duplicate axis",
     "output_type": "error",
     "traceback": [
      "\u001b[0;31m---------------------------------------------------------------------------\u001b[0m",
      "\u001b[0;31mValueError\u001b[0m                                Traceback (most recent call last)",
      "\u001b[0;32m<ipython-input-44-e5167beea8cc>\u001b[0m in \u001b[0;36m<module>\u001b[0;34m\u001b[0m\n\u001b[0;32m----> 1\u001b[0;31m \u001b[0msns\u001b[0m\u001b[0;34m.\u001b[0m\u001b[0mlineplot\u001b[0m\u001b[0;34m(\u001b[0m\u001b[0mx\u001b[0m\u001b[0;34m=\u001b[0m\u001b[0;34m\"iter\"\u001b[0m\u001b[0;34m,\u001b[0m \u001b[0my\u001b[0m\u001b[0;34m=\u001b[0m\u001b[0;34m\"mean_test_score\"\u001b[0m\u001b[0;34m,\u001b[0m \u001b[0mdata\u001b[0m\u001b[0;34m=\u001b[0m\u001b[0mxdf\u001b[0m\u001b[0;34m,\u001b[0m \u001b[0munits\u001b[0m\u001b[0;34m=\u001b[0m\u001b[0;34m\"kfold\"\u001b[0m\u001b[0;34m)\u001b[0m\u001b[0;34m\u001b[0m\u001b[0;34m\u001b[0m\u001b[0m\n\u001b[0m",
      "\u001b[0;32m~/miniconda3/envs/automl/lib/python3.6/site-packages/seaborn/_decorators.py\u001b[0m in \u001b[0;36minner_f\u001b[0;34m(*args, **kwargs)\u001b[0m\n\u001b[1;32m     44\u001b[0m             )\n\u001b[1;32m     45\u001b[0m         \u001b[0mkwargs\u001b[0m\u001b[0;34m.\u001b[0m\u001b[0mupdate\u001b[0m\u001b[0;34m(\u001b[0m\u001b[0;34m{\u001b[0m\u001b[0mk\u001b[0m\u001b[0;34m:\u001b[0m \u001b[0marg\u001b[0m \u001b[0;32mfor\u001b[0m \u001b[0mk\u001b[0m\u001b[0;34m,\u001b[0m \u001b[0marg\u001b[0m \u001b[0;32min\u001b[0m \u001b[0mzip\u001b[0m\u001b[0;34m(\u001b[0m\u001b[0msig\u001b[0m\u001b[0;34m.\u001b[0m\u001b[0mparameters\u001b[0m\u001b[0;34m,\u001b[0m \u001b[0margs\u001b[0m\u001b[0;34m)\u001b[0m\u001b[0;34m}\u001b[0m\u001b[0;34m)\u001b[0m\u001b[0;34m\u001b[0m\u001b[0;34m\u001b[0m\u001b[0m\n\u001b[0;32m---> 46\u001b[0;31m         \u001b[0;32mreturn\u001b[0m \u001b[0mf\u001b[0m\u001b[0;34m(\u001b[0m\u001b[0;34m**\u001b[0m\u001b[0mkwargs\u001b[0m\u001b[0;34m)\u001b[0m\u001b[0;34m\u001b[0m\u001b[0;34m\u001b[0m\u001b[0m\n\u001b[0m\u001b[1;32m     47\u001b[0m     \u001b[0;32mreturn\u001b[0m \u001b[0minner_f\u001b[0m\u001b[0;34m\u001b[0m\u001b[0;34m\u001b[0m\u001b[0m\n\u001b[1;32m     48\u001b[0m \u001b[0;34m\u001b[0m\u001b[0m\n",
      "\u001b[0;32m~/miniconda3/envs/automl/lib/python3.6/site-packages/seaborn/relational.py\u001b[0m in \u001b[0;36mlineplot\u001b[0;34m(x, y, hue, size, style, data, palette, hue_order, hue_norm, sizes, size_order, size_norm, dashes, markers, style_order, units, estimator, ci, n_boot, seed, sort, err_style, err_kws, legend, ax, **kwargs)\u001b[0m\n\u001b[1;32m    708\u001b[0m     \u001b[0mp\u001b[0m\u001b[0;34m.\u001b[0m\u001b[0m_attach\u001b[0m\u001b[0;34m(\u001b[0m\u001b[0max\u001b[0m\u001b[0;34m)\u001b[0m\u001b[0;34m\u001b[0m\u001b[0;34m\u001b[0m\u001b[0m\n\u001b[1;32m    709\u001b[0m \u001b[0;34m\u001b[0m\u001b[0m\n\u001b[0;32m--> 710\u001b[0;31m     \u001b[0mp\u001b[0m\u001b[0;34m.\u001b[0m\u001b[0mplot\u001b[0m\u001b[0;34m(\u001b[0m\u001b[0max\u001b[0m\u001b[0;34m,\u001b[0m \u001b[0mkwargs\u001b[0m\u001b[0;34m)\u001b[0m\u001b[0;34m\u001b[0m\u001b[0;34m\u001b[0m\u001b[0m\n\u001b[0m\u001b[1;32m    711\u001b[0m     \u001b[0;32mreturn\u001b[0m \u001b[0max\u001b[0m\u001b[0;34m\u001b[0m\u001b[0;34m\u001b[0m\u001b[0m\n\u001b[1;32m    712\u001b[0m \u001b[0;34m\u001b[0m\u001b[0m\n",
      "\u001b[0;32m~/miniconda3/envs/automl/lib/python3.6/site-packages/seaborn/relational.py\u001b[0m in \u001b[0;36mplot\u001b[0;34m(self, ax, kws)\u001b[0m\n\u001b[1;32m    469\u001b[0m         \u001b[0;31m# Loop over the semantic subsets and add to the plot\u001b[0m\u001b[0;34m\u001b[0m\u001b[0;34m\u001b[0m\u001b[0;34m\u001b[0m\u001b[0m\n\u001b[1;32m    470\u001b[0m         \u001b[0mgrouping_vars\u001b[0m \u001b[0;34m=\u001b[0m \u001b[0;34m\"hue\"\u001b[0m\u001b[0;34m,\u001b[0m \u001b[0;34m\"size\"\u001b[0m\u001b[0;34m,\u001b[0m \u001b[0;34m\"style\"\u001b[0m\u001b[0;34m\u001b[0m\u001b[0;34m\u001b[0m\u001b[0m\n\u001b[0;32m--> 471\u001b[0;31m         \u001b[0;32mfor\u001b[0m \u001b[0msub_vars\u001b[0m\u001b[0;34m,\u001b[0m \u001b[0msub_data\u001b[0m \u001b[0;32min\u001b[0m \u001b[0mself\u001b[0m\u001b[0;34m.\u001b[0m\u001b[0miter_data\u001b[0m\u001b[0;34m(\u001b[0m\u001b[0mgrouping_vars\u001b[0m\u001b[0;34m,\u001b[0m \u001b[0mfrom_comp_data\u001b[0m\u001b[0;34m=\u001b[0m\u001b[0;32mTrue\u001b[0m\u001b[0;34m)\u001b[0m\u001b[0;34m:\u001b[0m\u001b[0;34m\u001b[0m\u001b[0;34m\u001b[0m\u001b[0m\n\u001b[0m\u001b[1;32m    472\u001b[0m \u001b[0;34m\u001b[0m\u001b[0m\n\u001b[1;32m    473\u001b[0m             \u001b[0;32mif\u001b[0m \u001b[0mself\u001b[0m\u001b[0;34m.\u001b[0m\u001b[0msort\u001b[0m\u001b[0;34m:\u001b[0m\u001b[0;34m\u001b[0m\u001b[0;34m\u001b[0m\u001b[0m\n",
      "\u001b[0;32m~/miniconda3/envs/automl/lib/python3.6/site-packages/seaborn/_core.py\u001b[0m in \u001b[0;36miter_data\u001b[0;34m(self, grouping_vars, reverse, from_comp_data)\u001b[0m\n\u001b[1;32m    981\u001b[0m \u001b[0;34m\u001b[0m\u001b[0m\n\u001b[1;32m    982\u001b[0m         \u001b[0;32mif\u001b[0m \u001b[0mfrom_comp_data\u001b[0m\u001b[0;34m:\u001b[0m\u001b[0;34m\u001b[0m\u001b[0;34m\u001b[0m\u001b[0m\n\u001b[0;32m--> 983\u001b[0;31m             \u001b[0mdata\u001b[0m \u001b[0;34m=\u001b[0m \u001b[0mself\u001b[0m\u001b[0;34m.\u001b[0m\u001b[0mcomp_data\u001b[0m\u001b[0;34m\u001b[0m\u001b[0;34m\u001b[0m\u001b[0m\n\u001b[0m\u001b[1;32m    984\u001b[0m         \u001b[0;32melse\u001b[0m\u001b[0;34m:\u001b[0m\u001b[0;34m\u001b[0m\u001b[0;34m\u001b[0m\u001b[0m\n\u001b[1;32m    985\u001b[0m             \u001b[0mdata\u001b[0m \u001b[0;34m=\u001b[0m \u001b[0mself\u001b[0m\u001b[0;34m.\u001b[0m\u001b[0mplot_data\u001b[0m\u001b[0;34m\u001b[0m\u001b[0;34m\u001b[0m\u001b[0m\n",
      "\u001b[0;32m~/miniconda3/envs/automl/lib/python3.6/site-packages/seaborn/_core.py\u001b[0m in \u001b[0;36mcomp_data\u001b[0;34m(self)\u001b[0m\n\u001b[1;32m   1055\u001b[0m                     \u001b[0morig\u001b[0m \u001b[0;34m=\u001b[0m \u001b[0mself\u001b[0m\u001b[0;34m.\u001b[0m\u001b[0mplot_data\u001b[0m\u001b[0;34m[\u001b[0m\u001b[0mvar\u001b[0m\u001b[0;34m]\u001b[0m\u001b[0;34m.\u001b[0m\u001b[0mdropna\u001b[0m\u001b[0;34m(\u001b[0m\u001b[0;34m)\u001b[0m\u001b[0;34m\u001b[0m\u001b[0;34m\u001b[0m\u001b[0m\n\u001b[1;32m   1056\u001b[0m                 \u001b[0mcomp_col\u001b[0m \u001b[0;34m=\u001b[0m \u001b[0mpd\u001b[0m\u001b[0;34m.\u001b[0m\u001b[0mSeries\u001b[0m\u001b[0;34m(\u001b[0m\u001b[0mindex\u001b[0m\u001b[0;34m=\u001b[0m\u001b[0morig\u001b[0m\u001b[0;34m.\u001b[0m\u001b[0mindex\u001b[0m\u001b[0;34m,\u001b[0m \u001b[0mdtype\u001b[0m\u001b[0;34m=\u001b[0m\u001b[0mfloat\u001b[0m\u001b[0;34m,\u001b[0m \u001b[0mname\u001b[0m\u001b[0;34m=\u001b[0m\u001b[0mvar\u001b[0m\u001b[0;34m)\u001b[0m\u001b[0;34m\u001b[0m\u001b[0;34m\u001b[0m\u001b[0m\n\u001b[0;32m-> 1057\u001b[0;31m                 \u001b[0mcomp_col\u001b[0m\u001b[0;34m.\u001b[0m\u001b[0mloc\u001b[0m\u001b[0;34m[\u001b[0m\u001b[0morig\u001b[0m\u001b[0;34m.\u001b[0m\u001b[0mindex\u001b[0m\u001b[0;34m]\u001b[0m \u001b[0;34m=\u001b[0m \u001b[0mpd\u001b[0m\u001b[0;34m.\u001b[0m\u001b[0mto_numeric\u001b[0m\u001b[0;34m(\u001b[0m\u001b[0maxis\u001b[0m\u001b[0;34m.\u001b[0m\u001b[0mconvert_units\u001b[0m\u001b[0;34m(\u001b[0m\u001b[0morig\u001b[0m\u001b[0;34m)\u001b[0m\u001b[0;34m)\u001b[0m\u001b[0;34m\u001b[0m\u001b[0;34m\u001b[0m\u001b[0m\n\u001b[0m\u001b[1;32m   1058\u001b[0m \u001b[0;34m\u001b[0m\u001b[0m\n\u001b[1;32m   1059\u001b[0m                 \u001b[0;32mif\u001b[0m \u001b[0maxis\u001b[0m\u001b[0;34m.\u001b[0m\u001b[0mget_scale\u001b[0m\u001b[0;34m(\u001b[0m\u001b[0;34m)\u001b[0m \u001b[0;34m==\u001b[0m \u001b[0;34m\"log\"\u001b[0m\u001b[0;34m:\u001b[0m\u001b[0;34m\u001b[0m\u001b[0;34m\u001b[0m\u001b[0m\n",
      "\u001b[0;32m~/miniconda3/envs/automl/lib/python3.6/site-packages/pandas/core/indexing.py\u001b[0m in \u001b[0;36m__setitem__\u001b[0;34m(self, key, value)\u001b[0m\n\u001b[1;32m    668\u001b[0m \u001b[0;34m\u001b[0m\u001b[0m\n\u001b[1;32m    669\u001b[0m         \u001b[0miloc\u001b[0m \u001b[0;34m=\u001b[0m \u001b[0mself\u001b[0m \u001b[0;32mif\u001b[0m \u001b[0mself\u001b[0m\u001b[0;34m.\u001b[0m\u001b[0mname\u001b[0m \u001b[0;34m==\u001b[0m \u001b[0;34m\"iloc\"\u001b[0m \u001b[0;32melse\u001b[0m \u001b[0mself\u001b[0m\u001b[0;34m.\u001b[0m\u001b[0mobj\u001b[0m\u001b[0;34m.\u001b[0m\u001b[0miloc\u001b[0m\u001b[0;34m\u001b[0m\u001b[0;34m\u001b[0m\u001b[0m\n\u001b[0;32m--> 670\u001b[0;31m         \u001b[0miloc\u001b[0m\u001b[0;34m.\u001b[0m\u001b[0m_setitem_with_indexer\u001b[0m\u001b[0;34m(\u001b[0m\u001b[0mindexer\u001b[0m\u001b[0;34m,\u001b[0m \u001b[0mvalue\u001b[0m\u001b[0;34m)\u001b[0m\u001b[0;34m\u001b[0m\u001b[0;34m\u001b[0m\u001b[0m\n\u001b[0m\u001b[1;32m    671\u001b[0m \u001b[0;34m\u001b[0m\u001b[0m\n\u001b[1;32m    672\u001b[0m     \u001b[0;32mdef\u001b[0m \u001b[0m_validate_key\u001b[0m\u001b[0;34m(\u001b[0m\u001b[0mself\u001b[0m\u001b[0;34m,\u001b[0m \u001b[0mkey\u001b[0m\u001b[0;34m,\u001b[0m \u001b[0maxis\u001b[0m\u001b[0;34m:\u001b[0m \u001b[0mint\u001b[0m\u001b[0;34m)\u001b[0m\u001b[0;34m:\u001b[0m\u001b[0;34m\u001b[0m\u001b[0;34m\u001b[0m\u001b[0m\n",
      "\u001b[0;32m~/miniconda3/envs/automl/lib/python3.6/site-packages/pandas/core/indexing.py\u001b[0m in \u001b[0;36m_setitem_with_indexer\u001b[0;34m(self, indexer, value)\u001b[0m\n\u001b[1;32m   1788\u001b[0m                 \u001b[0;31m# setting for extensionarrays that store dicts. Need to decide\u001b[0m\u001b[0;34m\u001b[0m\u001b[0;34m\u001b[0m\u001b[0;34m\u001b[0m\u001b[0m\n\u001b[1;32m   1789\u001b[0m                 \u001b[0;31m# if it's worth supporting that.\u001b[0m\u001b[0;34m\u001b[0m\u001b[0;34m\u001b[0m\u001b[0;34m\u001b[0m\u001b[0m\n\u001b[0;32m-> 1790\u001b[0;31m                 \u001b[0mvalue\u001b[0m \u001b[0;34m=\u001b[0m \u001b[0mself\u001b[0m\u001b[0;34m.\u001b[0m\u001b[0m_align_series\u001b[0m\u001b[0;34m(\u001b[0m\u001b[0mindexer\u001b[0m\u001b[0;34m,\u001b[0m \u001b[0mSeries\u001b[0m\u001b[0;34m(\u001b[0m\u001b[0mvalue\u001b[0m\u001b[0;34m)\u001b[0m\u001b[0;34m)\u001b[0m\u001b[0;34m\u001b[0m\u001b[0;34m\u001b[0m\u001b[0m\n\u001b[0m\u001b[1;32m   1791\u001b[0m \u001b[0;34m\u001b[0m\u001b[0m\n\u001b[1;32m   1792\u001b[0m             \u001b[0;32melif\u001b[0m \u001b[0misinstance\u001b[0m\u001b[0;34m(\u001b[0m\u001b[0mvalue\u001b[0m\u001b[0;34m,\u001b[0m \u001b[0mABCDataFrame\u001b[0m\u001b[0;34m)\u001b[0m\u001b[0;34m:\u001b[0m\u001b[0;34m\u001b[0m\u001b[0;34m\u001b[0m\u001b[0m\n",
      "\u001b[0;32m~/miniconda3/envs/automl/lib/python3.6/site-packages/pandas/core/indexing.py\u001b[0m in \u001b[0;36m_align_series\u001b[0;34m(self, indexer, ser, multiindex_indexer)\u001b[0m\n\u001b[1;32m   1907\u001b[0m             \u001b[0;31m# series, so need to broadcast (see GH5206)\u001b[0m\u001b[0;34m\u001b[0m\u001b[0;34m\u001b[0m\u001b[0;34m\u001b[0m\u001b[0m\n\u001b[1;32m   1908\u001b[0m             \u001b[0;32mif\u001b[0m \u001b[0msum_aligners\u001b[0m \u001b[0;34m==\u001b[0m \u001b[0mself\u001b[0m\u001b[0;34m.\u001b[0m\u001b[0mndim\u001b[0m \u001b[0;32mand\u001b[0m \u001b[0mall\u001b[0m\u001b[0;34m(\u001b[0m\u001b[0mis_sequence\u001b[0m\u001b[0;34m(\u001b[0m\u001b[0m_\u001b[0m\u001b[0;34m)\u001b[0m \u001b[0;32mfor\u001b[0m \u001b[0m_\u001b[0m \u001b[0;32min\u001b[0m \u001b[0mindexer\u001b[0m\u001b[0;34m)\u001b[0m\u001b[0;34m:\u001b[0m\u001b[0;34m\u001b[0m\u001b[0;34m\u001b[0m\u001b[0m\n\u001b[0;32m-> 1909\u001b[0;31m                 \u001b[0mser\u001b[0m \u001b[0;34m=\u001b[0m \u001b[0mser\u001b[0m\u001b[0;34m.\u001b[0m\u001b[0mreindex\u001b[0m\u001b[0;34m(\u001b[0m\u001b[0mobj\u001b[0m\u001b[0;34m.\u001b[0m\u001b[0maxes\u001b[0m\u001b[0;34m[\u001b[0m\u001b[0;36m0\u001b[0m\u001b[0;34m]\u001b[0m\u001b[0;34m[\u001b[0m\u001b[0mindexer\u001b[0m\u001b[0;34m[\u001b[0m\u001b[0;36m0\u001b[0m\u001b[0;34m]\u001b[0m\u001b[0;34m]\u001b[0m\u001b[0;34m,\u001b[0m \u001b[0mcopy\u001b[0m\u001b[0;34m=\u001b[0m\u001b[0;32mTrue\u001b[0m\u001b[0;34m)\u001b[0m\u001b[0;34m.\u001b[0m\u001b[0m_values\u001b[0m\u001b[0;34m\u001b[0m\u001b[0;34m\u001b[0m\u001b[0m\n\u001b[0m\u001b[1;32m   1910\u001b[0m \u001b[0;34m\u001b[0m\u001b[0m\n\u001b[1;32m   1911\u001b[0m                 \u001b[0;31m# single indexer\u001b[0m\u001b[0;34m\u001b[0m\u001b[0;34m\u001b[0m\u001b[0;34m\u001b[0m\u001b[0m\n",
      "\u001b[0;32m~/miniconda3/envs/automl/lib/python3.6/site-packages/pandas/core/series.py\u001b[0m in \u001b[0;36mreindex\u001b[0;34m(self, index, **kwargs)\u001b[0m\n\u001b[1;32m   4410\u001b[0m     )\n\u001b[1;32m   4411\u001b[0m     \u001b[0;32mdef\u001b[0m \u001b[0mreindex\u001b[0m\u001b[0;34m(\u001b[0m\u001b[0mself\u001b[0m\u001b[0;34m,\u001b[0m \u001b[0mindex\u001b[0m\u001b[0;34m=\u001b[0m\u001b[0;32mNone\u001b[0m\u001b[0;34m,\u001b[0m \u001b[0;34m**\u001b[0m\u001b[0mkwargs\u001b[0m\u001b[0;34m)\u001b[0m\u001b[0;34m:\u001b[0m\u001b[0;34m\u001b[0m\u001b[0;34m\u001b[0m\u001b[0m\n\u001b[0;32m-> 4412\u001b[0;31m         \u001b[0;32mreturn\u001b[0m \u001b[0msuper\u001b[0m\u001b[0;34m(\u001b[0m\u001b[0;34m)\u001b[0m\u001b[0;34m.\u001b[0m\u001b[0mreindex\u001b[0m\u001b[0;34m(\u001b[0m\u001b[0mindex\u001b[0m\u001b[0;34m=\u001b[0m\u001b[0mindex\u001b[0m\u001b[0;34m,\u001b[0m \u001b[0;34m**\u001b[0m\u001b[0mkwargs\u001b[0m\u001b[0;34m)\u001b[0m\u001b[0;34m\u001b[0m\u001b[0;34m\u001b[0m\u001b[0m\n\u001b[0m\u001b[1;32m   4413\u001b[0m \u001b[0;34m\u001b[0m\u001b[0m\n\u001b[1;32m   4414\u001b[0m     def drop(\n",
      "\u001b[0;32m~/miniconda3/envs/automl/lib/python3.6/site-packages/pandas/core/generic.py\u001b[0m in \u001b[0;36mreindex\u001b[0;34m(self, *args, **kwargs)\u001b[0m\n\u001b[1;32m   4462\u001b[0m         \u001b[0;31m# perform the reindex on the axes\u001b[0m\u001b[0;34m\u001b[0m\u001b[0;34m\u001b[0m\u001b[0;34m\u001b[0m\u001b[0m\n\u001b[1;32m   4463\u001b[0m         return self._reindex_axes(\n\u001b[0;32m-> 4464\u001b[0;31m             \u001b[0maxes\u001b[0m\u001b[0;34m,\u001b[0m \u001b[0mlevel\u001b[0m\u001b[0;34m,\u001b[0m \u001b[0mlimit\u001b[0m\u001b[0;34m,\u001b[0m \u001b[0mtolerance\u001b[0m\u001b[0;34m,\u001b[0m \u001b[0mmethod\u001b[0m\u001b[0;34m,\u001b[0m \u001b[0mfill_value\u001b[0m\u001b[0;34m,\u001b[0m \u001b[0mcopy\u001b[0m\u001b[0;34m\u001b[0m\u001b[0;34m\u001b[0m\u001b[0m\n\u001b[0m\u001b[1;32m   4465\u001b[0m         ).__finalize__(self, method=\"reindex\")\n\u001b[1;32m   4466\u001b[0m \u001b[0;34m\u001b[0m\u001b[0m\n",
      "\u001b[0;32m~/miniconda3/envs/automl/lib/python3.6/site-packages/pandas/core/generic.py\u001b[0m in \u001b[0;36m_reindex_axes\u001b[0;34m(self, axes, level, limit, tolerance, method, fill_value, copy)\u001b[0m\n\u001b[1;32m   4485\u001b[0m                 \u001b[0mfill_value\u001b[0m\u001b[0;34m=\u001b[0m\u001b[0mfill_value\u001b[0m\u001b[0;34m,\u001b[0m\u001b[0;34m\u001b[0m\u001b[0;34m\u001b[0m\u001b[0m\n\u001b[1;32m   4486\u001b[0m                 \u001b[0mcopy\u001b[0m\u001b[0;34m=\u001b[0m\u001b[0mcopy\u001b[0m\u001b[0;34m,\u001b[0m\u001b[0;34m\u001b[0m\u001b[0;34m\u001b[0m\u001b[0m\n\u001b[0;32m-> 4487\u001b[0;31m                 \u001b[0mallow_dups\u001b[0m\u001b[0;34m=\u001b[0m\u001b[0;32mFalse\u001b[0m\u001b[0;34m,\u001b[0m\u001b[0;34m\u001b[0m\u001b[0;34m\u001b[0m\u001b[0m\n\u001b[0m\u001b[1;32m   4488\u001b[0m             )\n\u001b[1;32m   4489\u001b[0m \u001b[0;34m\u001b[0m\u001b[0m\n",
      "\u001b[0;32m~/miniconda3/envs/automl/lib/python3.6/site-packages/pandas/core/generic.py\u001b[0m in \u001b[0;36m_reindex_with_indexers\u001b[0;34m(self, reindexers, fill_value, copy, allow_dups)\u001b[0m\n\u001b[1;32m   4530\u001b[0m                 \u001b[0mfill_value\u001b[0m\u001b[0;34m=\u001b[0m\u001b[0mfill_value\u001b[0m\u001b[0;34m,\u001b[0m\u001b[0;34m\u001b[0m\u001b[0;34m\u001b[0m\u001b[0m\n\u001b[1;32m   4531\u001b[0m                 \u001b[0mallow_dups\u001b[0m\u001b[0;34m=\u001b[0m\u001b[0mallow_dups\u001b[0m\u001b[0;34m,\u001b[0m\u001b[0;34m\u001b[0m\u001b[0;34m\u001b[0m\u001b[0m\n\u001b[0;32m-> 4532\u001b[0;31m                 \u001b[0mcopy\u001b[0m\u001b[0;34m=\u001b[0m\u001b[0mcopy\u001b[0m\u001b[0;34m,\u001b[0m\u001b[0;34m\u001b[0m\u001b[0;34m\u001b[0m\u001b[0m\n\u001b[0m\u001b[1;32m   4533\u001b[0m             )\n\u001b[1;32m   4534\u001b[0m             \u001b[0;31m# If we've made a copy once, no need to make another one\u001b[0m\u001b[0;34m\u001b[0m\u001b[0;34m\u001b[0m\u001b[0;34m\u001b[0m\u001b[0m\n",
      "\u001b[0;32m~/miniconda3/envs/automl/lib/python3.6/site-packages/pandas/core/internals/managers.py\u001b[0m in \u001b[0;36mreindex_indexer\u001b[0;34m(self, new_axis, indexer, axis, fill_value, allow_dups, copy, consolidate)\u001b[0m\n\u001b[1;32m   1283\u001b[0m         \u001b[0;31m# some axes don't allow reindexing with dups\u001b[0m\u001b[0;34m\u001b[0m\u001b[0;34m\u001b[0m\u001b[0;34m\u001b[0m\u001b[0m\n\u001b[1;32m   1284\u001b[0m         \u001b[0;32mif\u001b[0m \u001b[0;32mnot\u001b[0m \u001b[0mallow_dups\u001b[0m\u001b[0;34m:\u001b[0m\u001b[0;34m\u001b[0m\u001b[0;34m\u001b[0m\u001b[0m\n\u001b[0;32m-> 1285\u001b[0;31m             \u001b[0mself\u001b[0m\u001b[0;34m.\u001b[0m\u001b[0maxes\u001b[0m\u001b[0;34m[\u001b[0m\u001b[0maxis\u001b[0m\u001b[0;34m]\u001b[0m\u001b[0;34m.\u001b[0m\u001b[0m_can_reindex\u001b[0m\u001b[0;34m(\u001b[0m\u001b[0mindexer\u001b[0m\u001b[0;34m)\u001b[0m\u001b[0;34m\u001b[0m\u001b[0;34m\u001b[0m\u001b[0m\n\u001b[0m\u001b[1;32m   1286\u001b[0m \u001b[0;34m\u001b[0m\u001b[0m\n\u001b[1;32m   1287\u001b[0m         \u001b[0;32mif\u001b[0m \u001b[0maxis\u001b[0m \u001b[0;34m>=\u001b[0m \u001b[0mself\u001b[0m\u001b[0;34m.\u001b[0m\u001b[0mndim\u001b[0m\u001b[0;34m:\u001b[0m\u001b[0;34m\u001b[0m\u001b[0;34m\u001b[0m\u001b[0m\n",
      "\u001b[0;32m~/miniconda3/envs/automl/lib/python3.6/site-packages/pandas/core/indexes/base.py\u001b[0m in \u001b[0;36m_can_reindex\u001b[0;34m(self, indexer)\u001b[0m\n\u001b[1;32m   3290\u001b[0m         \u001b[0;31m# trying to reindex on an axis with duplicates\u001b[0m\u001b[0;34m\u001b[0m\u001b[0;34m\u001b[0m\u001b[0;34m\u001b[0m\u001b[0m\n\u001b[1;32m   3291\u001b[0m         \u001b[0;32mif\u001b[0m \u001b[0;32mnot\u001b[0m \u001b[0mself\u001b[0m\u001b[0;34m.\u001b[0m\u001b[0mis_unique\u001b[0m \u001b[0;32mand\u001b[0m \u001b[0mlen\u001b[0m\u001b[0;34m(\u001b[0m\u001b[0mindexer\u001b[0m\u001b[0;34m)\u001b[0m\u001b[0;34m:\u001b[0m\u001b[0;34m\u001b[0m\u001b[0;34m\u001b[0m\u001b[0m\n\u001b[0;32m-> 3292\u001b[0;31m             \u001b[0;32mraise\u001b[0m \u001b[0mValueError\u001b[0m\u001b[0;34m(\u001b[0m\u001b[0;34m\"cannot reindex from a duplicate axis\"\u001b[0m\u001b[0;34m)\u001b[0m\u001b[0;34m\u001b[0m\u001b[0;34m\u001b[0m\u001b[0m\n\u001b[0m\u001b[1;32m   3293\u001b[0m \u001b[0;34m\u001b[0m\u001b[0m\n\u001b[1;32m   3294\u001b[0m     \u001b[0;32mdef\u001b[0m \u001b[0mreindex\u001b[0m\u001b[0;34m(\u001b[0m\u001b[0mself\u001b[0m\u001b[0;34m,\u001b[0m \u001b[0mtarget\u001b[0m\u001b[0;34m,\u001b[0m \u001b[0mmethod\u001b[0m\u001b[0;34m=\u001b[0m\u001b[0;32mNone\u001b[0m\u001b[0;34m,\u001b[0m \u001b[0mlevel\u001b[0m\u001b[0;34m=\u001b[0m\u001b[0;32mNone\u001b[0m\u001b[0;34m,\u001b[0m \u001b[0mlimit\u001b[0m\u001b[0;34m=\u001b[0m\u001b[0;32mNone\u001b[0m\u001b[0;34m,\u001b[0m \u001b[0mtolerance\u001b[0m\u001b[0;34m=\u001b[0m\u001b[0;32mNone\u001b[0m\u001b[0;34m)\u001b[0m\u001b[0;34m:\u001b[0m\u001b[0;34m\u001b[0m\u001b[0;34m\u001b[0m\u001b[0m\n",
      "\u001b[0;31mValueError\u001b[0m: cannot reindex from a duplicate axis"
     ]
    },
    {
     "data": {
      "image/png": "[encoded data removed]",
      "text/plain": [
       "<Figure size 432x288 with 1 Axes>"
      ]
     },
     "metadata": {},
     "output_type": "display_data"
    }
   ],
   "source": [
    "sns.lineplot(x=\"iter\", y=\"mean_test_score\", data=xdf, units=\"kfold\")"
   ]
  },
  {
   "cell_type": "markdown",
   "id": "c5e54ae8",
   "metadata": {},
   "source": [
    "Okcupid experiments"
   ]
  },
  {
   "cell_type": "code",
   "execution_count": 8,
   "id": "f013eb38",
   "metadata": {},
   "outputs": [],
   "source": [
    "# Data\n",
    "X_cupid = okcupid_df.drop(columns=\"job\")\n",
    "y_cupid = np.reshape(okcupid_df[\"job\"].values, X_cupid.shape[0])"
   ]
  },
  {
   "cell_type": "code",
   "execution_count": 9,
   "id": "6fefa460",
   "metadata": {},
   "outputs": [
    {
     "data": {
      "text/plain": [
       "(50789, 19)"
      ]
     },
     "execution_count": 9,
     "metadata": {},
     "output_type": "execute_result"
    }
   ],
   "source": [
    "X_cupid.shape"
   ]
  },
  {
   "cell_type": "code",
   "execution_count": 10,
   "id": "e272faa5",
   "metadata": {},
   "outputs": [],
   "source": [
    "# Experiment parameters\n",
    "kfolds = 10\n",
    "scorer = \"neg_log_loss\"\n",
    "ncores = 80\n",
    "random_state = 42\n",
    "\n",
    "# AutoML params\n",
    "automl_dict = {\"classification_algorithms\": [\"DT\", \"RF\", \"GB\"],\n",
    "               \"numerical_strategies\": [\"SSE\", \"MMS\"],\n",
    "               \"categorical_strategies\": [\"OHE\", \"SUM\"],\n",
    "               \"test_fraction\": 0.3,\n",
    "               \"cv_folds\": 3,\n",
    "               \"random_state\": random_state,\n",
    "               \"num_iterations\": 4,\n",
    "               \"fidelity_parameter\": 4,\n",
    "               \"n_jobs\": ncores,\n",
    "               \"loss_function\": scorer,\n",
    "               \"n_estimators\": 10}\n",
    "\n",
    "# Voters\n",
    "voter_clfs = [RandomForestClassifier(random_state=random_state), \n",
    "              DecisionTreeClassifier(random_state=random_state),\n",
    "              GradientBoostingClassifier(random_state=random_state)]"
   ]
  },
  {
   "cell_type": "code",
   "execution_count": 11,
   "id": "6f447a7a",
   "metadata": {
    "scrolled": false
   },
   "outputs": [
    {
     "name": "stdout",
     "output_type": "stream",
     "text": [
      "Fold 0\n"
     ]
    },
    {
     "name": "stderr",
     "output_type": "stream",
     "text": [
      "Data-Model combinations: 0it [00:00, ?it/s]\n",
      "Hyperband iterations:   0%|          | 0/4 [00:00<?, ?it/s]\u001b[A/home/roberto_olayo/miniconda3/envs/automl/lib/python3.6/site-packages/sklearn/model_selection/_search.py:925: UserWarning: One or more of the test scores are non-finite: [nan nan nan nan nan nan nan nan nan nan]\n",
      "  category=UserWarning\n",
      "/home/roberto_olayo/miniconda3/envs/automl/lib/python3.6/site-packages/sklearn/model_selection/_search.py:925: UserWarning: One or more of the test scores are non-finite: [        nan         nan         nan         nan         nan         nan\n",
      "         nan         nan         nan         nan -4.24381955 -3.13221726\n",
      " -2.71329363]\n",
      "  category=UserWarning\n",
      "\n",
      "Hyperband iterations:  25%|██▌       | 1/4 [00:08<00:25,  8.56s/it]\u001b[A\n",
      "Hyperband iterations:  50%|█████     | 2/4 [00:15<00:15,  7.63s/it]\u001b[A\n",
      "Hyperband iterations:  75%|███████▌  | 3/4 [00:22<00:07,  7.42s/it]\u001b[A\n",
      "Hyperband iterations: 100%|██████████| 4/4 [00:30<00:00,  7.52s/it]\u001b[A\n",
      "Data-Model combinations: 1it [00:30, 30.09s/it]\n",
      "Hyperband iterations:   0%|          | 0/4 [00:00<?, ?it/s]\u001b[A/home/roberto_olayo/miniconda3/envs/automl/lib/python3.6/site-packages/sklearn/model_selection/_search.py:925: UserWarning: One or more of the test scores are non-finite: [nan nan nan nan nan nan nan nan nan nan]\n",
      "  category=UserWarning\n",
      "/home/roberto_olayo/miniconda3/envs/automl/lib/python3.6/site-packages/sklearn/model_selection/_search.py:925: UserWarning: One or more of the test scores are non-finite: [        nan         nan         nan         nan         nan         nan\n",
      "         nan         nan         nan         nan -0.84549028 -1.17481413\n",
      " -0.80828935]\n",
      "  category=UserWarning\n",
      "\n",
      "Hyperband iterations:  25%|██▌       | 1/4 [00:02<00:08,  2.85s/it]\u001b[A\n",
      "Hyperband iterations:  50%|█████     | 2/4 [00:07<00:07,  3.88s/it]\u001b[A\n",
      "Hyperband iterations:  75%|███████▌  | 3/4 [00:13<00:04,  4.95s/it]\u001b[A\n",
      "Hyperband iterations: 100%|██████████| 4/4 [00:18<00:00,  4.52s/it]\u001b[A\n",
      "Data-Model combinations: 2it [00:48, 23.04s/it]\n",
      "Hyperband iterations:   0%|          | 0/4 [00:00<?, ?it/s]\u001b[A/home/roberto_olayo/miniconda3/envs/automl/lib/python3.6/site-packages/sklearn/model_selection/_search.py:925: UserWarning: One or more of the test scores are non-finite: [nan nan nan nan nan nan nan nan nan nan]\n",
      "  category=UserWarning\n",
      "/home/roberto_olayo/miniconda3/envs/automl/lib/python3.6/site-packages/sklearn/model_selection/_search.py:925: UserWarning: One or more of the test scores are non-finite: [         nan          nan          nan          nan          nan\n",
      "          nan          nan          nan          nan          nan\n",
      "  -3.28258563  -0.78714552 -20.73713683]\n",
      "  category=UserWarning\n",
      "\n",
      "Hyperband iterations:  25%|██▌       | 1/4 [00:17<00:53, 17.70s/it]\u001b[A\n",
      "Hyperband iterations:  50%|█████     | 2/4 [01:21<01:29, 44.85s/it]\u001b[A\n",
      "Hyperband iterations:  75%|███████▌  | 3/4 [02:35<00:58, 58.02s/it]\u001b[A\n",
      "Hyperband iterations: 100%|██████████| 4/4 [04:07<00:00, 61.98s/it]\u001b[A\n",
      "Data-Model combinations: 3it [04:56, 125.74s/it]\n",
      "Hyperband iterations:   0%|          | 0/4 [00:00<?, ?it/s]\u001b[A/home/roberto_olayo/miniconda3/envs/automl/lib/python3.6/site-packages/sklearn/model_selection/_search.py:925: UserWarning: One or more of the test scores are non-finite: [nan nan nan nan nan nan nan nan nan nan]\n",
      "  category=UserWarning\n",
      "/home/roberto_olayo/miniconda3/envs/automl/lib/python3.6/site-packages/sklearn/model_selection/_search.py:925: UserWarning: One or more of the test scores are non-finite: [        nan         nan         nan         nan         nan         nan\n",
      "         nan         nan         nan         nan -4.24381955 -3.13221726\n",
      " -2.71329363]\n",
      "  category=UserWarning\n",
      "\n",
      "Hyperband iterations:  25%|██▌       | 1/4 [00:06<00:20,  6.77s/it]\u001b[A\n",
      "Hyperband iterations:  50%|█████     | 2/4 [00:13<00:12,  6.47s/it]\u001b[A\n",
      "Hyperband iterations:  75%|███████▌  | 3/4 [00:20<00:06,  6.92s/it]\u001b[A\n",
      "Hyperband iterations: 100%|██████████| 4/4 [00:27<00:00,  6.93s/it]\u001b[A\n",
      "Data-Model combinations: 4it [05:23, 87.04s/it] \n",
      "Hyperband iterations:   0%|          | 0/4 [00:00<?, ?it/s]\u001b[A/home/roberto_olayo/miniconda3/envs/automl/lib/python3.6/site-packages/sklearn/model_selection/_search.py:925: UserWarning: One or more of the test scores are non-finite: [nan nan nan nan nan nan nan nan nan nan]\n",
      "  category=UserWarning\n",
      "/home/roberto_olayo/miniconda3/envs/automl/lib/python3.6/site-packages/sklearn/model_selection/_search.py:925: UserWarning: One or more of the test scores are non-finite: [        nan         nan         nan         nan         nan         nan\n",
      "         nan         nan         nan         nan -0.84549028 -1.17481413\n",
      " -0.80828935]\n",
      "  category=UserWarning\n",
      "\n",
      "Hyperband iterations:  25%|██▌       | 1/4 [00:02<00:08,  2.69s/it]\u001b[A\n",
      "Hyperband iterations:  50%|█████     | 2/4 [00:07<00:07,  3.81s/it]\u001b[A\n",
      "Hyperband iterations:  75%|███████▌  | 3/4 [00:14<00:05,  5.25s/it]\u001b[A\n",
      "Hyperband iterations: 100%|██████████| 4/4 [00:18<00:00,  4.58s/it]\u001b[A\n",
      "Data-Model combinations: 5it [05:42, 62.26s/it]\n",
      "Hyperband iterations:   0%|          | 0/4 [00:00<?, ?it/s]\u001b[A/home/roberto_olayo/miniconda3/envs/automl/lib/python3.6/site-packages/sklearn/model_selection/_search.py:925: UserWarning: One or more of the test scores are non-finite: [nan nan nan nan nan nan nan nan nan nan]\n",
      "  category=UserWarning\n",
      "/home/roberto_olayo/miniconda3/envs/automl/lib/python3.6/site-packages/sklearn/model_selection/_search.py:925: UserWarning: One or more of the test scores are non-finite: [         nan          nan          nan          nan          nan\n",
      "          nan          nan          nan          nan          nan\n",
      "  -3.53487079  -0.78714552 -18.70771846]\n",
      "  category=UserWarning\n",
      "\n",
      "Hyperband iterations:  25%|██▌       | 1/4 [00:17<00:51, 17.29s/it]\u001b[A\n",
      "Hyperband iterations:  50%|█████     | 2/4 [01:21<01:29, 44.94s/it]\u001b[A\n",
      "Hyperband iterations:  75%|███████▌  | 3/4 [02:34<00:57, 57.61s/it]\u001b[A\n",
      "Hyperband iterations: 100%|██████████| 4/4 [04:05<00:00, 61.36s/it]\u001b[A\n",
      "Data-Model combinations: 6it [09:47, 124.55s/it]\n",
      "Hyperband iterations:   0%|          | 0/4 [00:00<?, ?it/s]\u001b[A/home/roberto_olayo/miniconda3/envs/automl/lib/python3.6/site-packages/sklearn/model_selection/_search.py:925: UserWarning: One or more of the test scores are non-finite: [nan nan nan nan nan nan nan nan nan nan]\n",
      "  category=UserWarning\n",
      "/home/roberto_olayo/miniconda3/envs/automl/lib/python3.6/site-packages/sklearn/model_selection/_search.py:925: UserWarning: One or more of the test scores are non-finite: [        nan         nan         nan         nan         nan         nan\n",
      "         nan         nan         nan         nan -4.96007327 -3.40589016\n",
      " -2.57439933]\n",
      "  category=UserWarning\n",
      "\n",
      "Hyperband iterations:  25%|██▌       | 1/4 [00:04<00:12,  4.07s/it]\u001b[A\n",
      "Hyperband iterations:  50%|█████     | 2/4 [00:08<00:08,  4.01s/it]\u001b[A\n",
      "Hyperband iterations:  75%|███████▌  | 3/4 [00:13<00:04,  4.63s/it]\u001b[A\n",
      "Hyperband iterations: 100%|██████████| 4/4 [00:19<00:00,  4.86s/it]\u001b[A\n",
      "Data-Model combinations: 7it [10:07, 90.19s/it] \n",
      "Hyperband iterations:   0%|          | 0/4 [00:00<?, ?it/s]\u001b[A/home/roberto_olayo/miniconda3/envs/automl/lib/python3.6/site-packages/sklearn/model_selection/_search.py:925: UserWarning: One or more of the test scores are non-finite: [nan nan nan nan nan nan nan nan nan nan]\n",
      "  category=UserWarning\n",
      "/home/roberto_olayo/miniconda3/envs/automl/lib/python3.6/site-packages/sklearn/model_selection/_search.py:925: UserWarning: One or more of the test scores are non-finite: [        nan         nan         nan         nan         nan         nan\n",
      "         nan         nan         nan         nan -0.828994   -1.08293876\n",
      " -0.81080455]\n",
      "  category=UserWarning\n",
      "\n",
      "Hyperband iterations:  25%|██▌       | 1/4 [00:02<00:08,  2.95s/it]\u001b[A\n",
      "Hyperband iterations:  50%|█████     | 2/4 [00:06<00:06,  3.38s/it]\u001b[A\n",
      "Hyperband iterations:  75%|███████▌  | 3/4 [00:12<00:04,  4.33s/it]\u001b[A\n",
      "Hyperband iterations: 100%|██████████| 4/4 [00:18<00:00,  4.61s/it]\u001b[A\n",
      "Data-Model combinations: 8it [10:25, 67.35s/it]\n",
      "Hyperband iterations:   0%|          | 0/4 [00:00<?, ?it/s]\u001b[A/home/roberto_olayo/miniconda3/envs/automl/lib/python3.6/site-packages/sklearn/model_selection/_search.py:925: UserWarning: One or more of the test scores are non-finite: [nan nan nan nan nan nan nan nan nan nan]\n",
      "  category=UserWarning\n"
     ]
    },
    {
     "name": "stderr",
     "output_type": "stream",
     "text": [
      "/home/roberto_olayo/miniconda3/envs/automl/lib/python3.6/site-packages/sklearn/model_selection/_search.py:925: UserWarning: One or more of the test scores are non-finite: [         nan          nan          nan          nan          nan\n",
      "          nan          nan          nan          nan          nan\n",
      "  -2.56594334  -0.7778307  -20.87584678]\n",
      "  category=UserWarning\n",
      "\n",
      "Hyperband iterations:  25%|██▌       | 1/4 [00:09<00:29,  9.86s/it]\u001b[A\n",
      "Hyperband iterations:  50%|█████     | 2/4 [01:09<01:17, 38.95s/it]\u001b[A\n",
      "Hyperband iterations:  75%|███████▌  | 3/4 [02:14<00:51, 51.22s/it]\u001b[A\n",
      "Hyperband iterations: 100%|██████████| 4/4 [03:40<00:00, 55.19s/it]\u001b[A\n",
      "Data-Model combinations: 9it [14:06, 115.32s/it]\n",
      "Hyperband iterations:   0%|          | 0/4 [00:00<?, ?it/s]\u001b[A/home/roberto_olayo/miniconda3/envs/automl/lib/python3.6/site-packages/sklearn/model_selection/_search.py:925: UserWarning: One or more of the test scores are non-finite: [nan nan nan nan nan nan nan nan nan nan]\n",
      "  category=UserWarning\n",
      "/home/roberto_olayo/miniconda3/envs/automl/lib/python3.6/site-packages/sklearn/model_selection/_search.py:925: UserWarning: One or more of the test scores are non-finite: [        nan         nan         nan         nan         nan         nan\n",
      "         nan         nan         nan         nan -4.96007327 -3.40589016\n",
      " -2.57439933]\n",
      "  category=UserWarning\n",
      "\n",
      "Hyperband iterations:  25%|██▌       | 1/4 [00:04<00:12,  4.24s/it]\u001b[A\n",
      "Hyperband iterations:  50%|█████     | 2/4 [00:08<00:08,  4.03s/it]\u001b[A\n",
      "Hyperband iterations:  75%|███████▌  | 3/4 [00:13<00:04,  4.68s/it]\u001b[A\n",
      "Hyperband iterations: 100%|██████████| 4/4 [00:19<00:00,  4.94s/it]\u001b[A\n",
      "Data-Model combinations: 10it [14:26, 85.81s/it]\n",
      "Hyperband iterations:   0%|          | 0/4 [00:00<?, ?it/s]\u001b[A/home/roberto_olayo/miniconda3/envs/automl/lib/python3.6/site-packages/sklearn/model_selection/_search.py:925: UserWarning: One or more of the test scores are non-finite: [nan nan nan nan nan nan nan nan nan nan]\n",
      "  category=UserWarning\n",
      "/home/roberto_olayo/miniconda3/envs/automl/lib/python3.6/site-packages/sklearn/model_selection/_search.py:925: UserWarning: One or more of the test scores are non-finite: [        nan         nan         nan         nan         nan         nan\n",
      "         nan         nan         nan         nan -0.828994   -1.08293876\n",
      " -0.81084666]\n",
      "  category=UserWarning\n",
      "\n",
      "Hyperband iterations:  25%|██▌       | 1/4 [00:03<00:09,  3.01s/it]\u001b[A\n",
      "Hyperband iterations:  50%|█████     | 2/4 [00:06<00:06,  3.40s/it]\u001b[A\n",
      "Hyperband iterations:  75%|███████▌  | 3/4 [00:12<00:04,  4.28s/it]\u001b[A\n",
      "Hyperband iterations: 100%|██████████| 4/4 [00:18<00:00,  4.67s/it]\u001b[A\n",
      "Data-Model combinations: 11it [14:44, 65.27s/it]\n",
      "Hyperband iterations:   0%|          | 0/4 [00:00<?, ?it/s]\u001b[A/home/roberto_olayo/miniconda3/envs/automl/lib/python3.6/site-packages/sklearn/model_selection/_search.py:925: UserWarning: One or more of the test scores are non-finite: [nan nan nan nan nan nan nan nan nan nan]\n",
      "  category=UserWarning\n",
      "/home/roberto_olayo/miniconda3/envs/automl/lib/python3.6/site-packages/sklearn/model_selection/_search.py:925: UserWarning: One or more of the test scores are non-finite: [         nan          nan          nan          nan          nan\n",
      "          nan          nan          nan          nan          nan\n",
      "  -2.23192941  -0.7778307  -12.52302291]\n",
      "  category=UserWarning\n",
      "\n",
      "Hyperband iterations:  25%|██▌       | 1/4 [00:10<00:30, 10.01s/it]\u001b[A\n",
      "Hyperband iterations:  50%|█████     | 2/4 [01:09<01:18, 39.28s/it]\u001b[A\n",
      "Hyperband iterations:  75%|███████▌  | 3/4 [02:15<00:51, 51.53s/it]\u001b[A\n",
      "Hyperband iterations: 100%|██████████| 4/4 [03:42<00:00, 55.65s/it]\u001b[A\n",
      "Data-Model combinations: 12it [18:27, 92.28s/it] \n"
     ]
    },
    {
     "name": "stdout",
     "output_type": "stream",
     "text": [
      "Fold 1\n"
     ]
    },
    {
     "name": "stderr",
     "output_type": "stream",
     "text": [
      "Data-Model combinations: 0it [00:00, ?it/s]\n",
      "Hyperband iterations:   0%|          | 0/4 [00:00<?, ?it/s]\u001b[A/home/roberto_olayo/miniconda3/envs/automl/lib/python3.6/site-packages/sklearn/model_selection/_search.py:925: UserWarning: One or more of the test scores are non-finite: [nan nan nan nan nan nan nan nan nan nan]\n",
      "  category=UserWarning\n",
      "/home/roberto_olayo/miniconda3/envs/automl/lib/python3.6/site-packages/sklearn/model_selection/_search.py:925: UserWarning: One or more of the test scores are non-finite: [       nan        nan        nan        nan        nan        nan\n",
      "        nan        nan        nan        nan -6.1739257 -4.4939458\n",
      " -3.1794911]\n",
      "  category=UserWarning\n",
      "\n",
      "Hyperband iterations:  25%|██▌       | 1/4 [00:10<00:32, 10.93s/it]\u001b[A\n",
      "Hyperband iterations:  50%|█████     | 2/4 [00:17<00:17,  8.55s/it]\u001b[A\n",
      "Hyperband iterations:  75%|███████▌  | 3/4 [00:24<00:07,  7.87s/it]\u001b[A\n",
      "Hyperband iterations: 100%|██████████| 4/4 [00:32<00:00,  8.04s/it]\u001b[A\n",
      "Data-Model combinations: 1it [00:32, 32.16s/it]\n",
      "Hyperband iterations:   0%|          | 0/4 [00:00<?, ?it/s]\u001b[A/home/roberto_olayo/miniconda3/envs/automl/lib/python3.6/site-packages/sklearn/model_selection/_search.py:925: UserWarning: One or more of the test scores are non-finite: [nan nan nan nan nan nan nan nan nan nan]\n",
      "  category=UserWarning\n",
      "/home/roberto_olayo/miniconda3/envs/automl/lib/python3.6/site-packages/sklearn/model_selection/_search.py:925: UserWarning: One or more of the test scores are non-finite: [        nan         nan         nan         nan         nan         nan\n",
      "         nan         nan         nan         nan -0.83984014 -0.90678125\n",
      " -0.83186064]\n",
      "  category=UserWarning\n",
      "\n",
      "Hyperband iterations:  25%|██▌       | 1/4 [00:02<00:08,  2.83s/it]\u001b[A\n",
      "Hyperband iterations:  50%|█████     | 2/4 [00:07<00:07,  3.80s/it]\u001b[A\n",
      "Hyperband iterations:  75%|███████▌  | 3/4 [00:14<00:05,  5.32s/it]\u001b[A\n",
      "Hyperband iterations: 100%|██████████| 4/4 [00:20<00:00,  5.06s/it]\u001b[A\n",
      "Data-Model combinations: 2it [00:52, 25.15s/it]\n",
      "Hyperband iterations:   0%|          | 0/4 [00:00<?, ?it/s]\u001b[A/home/roberto_olayo/miniconda3/envs/automl/lib/python3.6/site-packages/sklearn/model_selection/_search.py:925: UserWarning: One or more of the test scores are non-finite: [nan nan nan nan nan nan nan nan nan nan]\n",
      "  category=UserWarning\n",
      "/home/roberto_olayo/miniconda3/envs/automl/lib/python3.6/site-packages/sklearn/model_selection/_search.py:925: UserWarning: One or more of the test scores are non-finite: [         nan          nan          nan          nan          nan\n",
      "          nan          nan          nan          nan          nan\n",
      "  -2.37589941  -0.77143278 -22.12474319]\n",
      "  category=UserWarning\n",
      "\n",
      "Hyperband iterations:  25%|██▌       | 1/4 [00:17<00:53, 17.71s/it]\u001b[A\n",
      "Hyperband iterations:  50%|█████     | 2/4 [01:20<01:28, 44.37s/it]\u001b[A\n",
      "Hyperband iterations:  75%|███████▌  | 3/4 [02:33<00:57, 57.12s/it]\u001b[A\n",
      "Hyperband iterations: 100%|██████████| 4/4 [04:06<00:00, 61.62s/it]\u001b[A\n",
      "Data-Model combinations: 3it [04:58, 126.23s/it]\n",
      "Hyperband iterations:   0%|          | 0/4 [00:00<?, ?it/s]\u001b[A/home/roberto_olayo/miniconda3/envs/automl/lib/python3.6/site-packages/sklearn/model_selection/_search.py:925: UserWarning: One or more of the test scores are non-finite: [nan nan nan nan nan nan nan nan nan nan]\n",
      "  category=UserWarning\n",
      "/home/roberto_olayo/miniconda3/envs/automl/lib/python3.6/site-packages/sklearn/model_selection/_search.py:925: UserWarning: One or more of the test scores are non-finite: [       nan        nan        nan        nan        nan        nan\n",
      "        nan        nan        nan        nan -6.1739257 -4.4939458\n",
      " -3.1794911]\n",
      "  category=UserWarning\n",
      "\n",
      "Hyperband iterations:  25%|██▌       | 1/4 [00:06<00:20,  6.67s/it]\u001b[A\n",
      "Hyperband iterations:  50%|█████     | 2/4 [00:12<00:12,  6.45s/it]\u001b[A\n",
      "Hyperband iterations:  75%|███████▌  | 3/4 [00:20<00:06,  6.73s/it]\u001b[A\n",
      "Hyperband iterations: 100%|██████████| 4/4 [00:27<00:00,  6.81s/it]\u001b[A\n",
      "Data-Model combinations: 4it [05:26, 87.15s/it] \n",
      "Hyperband iterations:   0%|          | 0/4 [00:00<?, ?it/s]\u001b[A/home/roberto_olayo/miniconda3/envs/automl/lib/python3.6/site-packages/sklearn/model_selection/_search.py:925: UserWarning: One or more of the test scores are non-finite: [nan nan nan nan nan nan nan nan nan nan]\n",
      "  category=UserWarning\n",
      "/home/roberto_olayo/miniconda3/envs/automl/lib/python3.6/site-packages/sklearn/model_selection/_search.py:925: UserWarning: One or more of the test scores are non-finite: [        nan         nan         nan         nan         nan         nan\n",
      "         nan         nan         nan         nan -0.83984014 -0.90678125\n",
      " -0.83186064]\n",
      "  category=UserWarning\n",
      "\n",
      "Hyperband iterations:  25%|██▌       | 1/4 [00:02<00:08,  2.88s/it]\u001b[A\n",
      "Hyperband iterations:  50%|█████     | 2/4 [00:07<00:07,  3.88s/it]\u001b[A\n",
      "Hyperband iterations:  75%|███████▌  | 3/4 [00:13<00:05,  5.04s/it]\u001b[A\n",
      "Hyperband iterations: 100%|██████████| 4/4 [00:19<00:00,  4.97s/it]\u001b[A\n",
      "Data-Model combinations: 5it [05:46, 62.89s/it]\n",
      "Hyperband iterations:   0%|          | 0/4 [00:00<?, ?it/s]\u001b[A/home/roberto_olayo/miniconda3/envs/automl/lib/python3.6/site-packages/sklearn/model_selection/_search.py:925: UserWarning: One or more of the test scores are non-finite: [nan nan nan nan nan nan nan nan nan nan]\n",
      "  category=UserWarning\n",
      "/home/roberto_olayo/miniconda3/envs/automl/lib/python3.6/site-packages/sklearn/model_selection/_search.py:925: UserWarning: One or more of the test scores are non-finite: [         nan          nan          nan          nan          nan\n",
      "          nan          nan          nan          nan          nan\n",
      "  -2.36710692  -0.77143278 -23.58070732]\n",
      "  category=UserWarning\n",
      "\n",
      "Hyperband iterations:  25%|██▌       | 1/4 [00:17<00:52, 17.46s/it]\u001b[A\n",
      "Hyperband iterations:  50%|█████     | 2/4 [01:23<01:32, 46.30s/it]\u001b[A\n",
      "Hyperband iterations:  75%|███████▌  | 3/4 [02:35<00:57, 57.91s/it]\u001b[A\n",
      "Hyperband iterations: 100%|██████████| 4/4 [04:07<00:00, 61.83s/it]\u001b[A\n",
      "Data-Model combinations: 6it [09:53, 125.60s/it]\n",
      "Hyperband iterations:   0%|          | 0/4 [00:00<?, ?it/s]\u001b[A/home/roberto_olayo/miniconda3/envs/automl/lib/python3.6/site-packages/sklearn/model_selection/_search.py:925: UserWarning: One or more of the test scores are non-finite: [nan nan nan nan nan nan nan nan nan nan]\n",
      "  category=UserWarning\n",
      "/home/roberto_olayo/miniconda3/envs/automl/lib/python3.6/site-packages/sklearn/model_selection/_search.py:925: UserWarning: One or more of the test scores are non-finite: [        nan         nan         nan         nan         nan         nan\n",
      "         nan         nan         nan         nan -6.15100827 -4.29944552\n",
      " -3.1090678 ]\n",
      "  category=UserWarning\n",
      "\n",
      "Hyperband iterations:  25%|██▌       | 1/4 [00:04<00:12,  4.17s/it]\u001b[A\n",
      "Hyperband iterations:  50%|█████     | 2/4 [00:07<00:07,  3.97s/it]\u001b[A\n",
      "Hyperband iterations:  75%|███████▌  | 3/4 [00:13<00:04,  4.55s/it]\u001b[A\n",
      "Hyperband iterations: 100%|██████████| 4/4 [00:19<00:00,  4.84s/it]\u001b[A\n",
      "Data-Model combinations: 7it [10:12, 90.87s/it] \n",
      "Hyperband iterations:   0%|          | 0/4 [00:00<?, ?it/s]\u001b[A/home/roberto_olayo/miniconda3/envs/automl/lib/python3.6/site-packages/sklearn/model_selection/_search.py:925: UserWarning: One or more of the test scores are non-finite: [nan nan nan nan nan nan nan nan nan nan]\n",
      "  category=UserWarning\n",
      "/home/roberto_olayo/miniconda3/envs/automl/lib/python3.6/site-packages/sklearn/model_selection/_search.py:925: UserWarning: One or more of the test scores are non-finite: [        nan         nan         nan         nan         nan         nan\n",
      "         nan         nan         nan         nan -0.83830523 -1.17805778\n",
      " -0.8082817 ]\n",
      "  category=UserWarning\n",
      "\n",
      "Hyperband iterations:  25%|██▌       | 1/4 [00:02<00:08,  2.80s/it]\u001b[A\n",
      "Hyperband iterations:  50%|█████     | 2/4 [00:06<00:06,  3.34s/it]\u001b[A\n",
      "Hyperband iterations:  75%|███████▌  | 3/4 [00:12<00:04,  4.34s/it]\u001b[A\n",
      "Hyperband iterations: 100%|██████████| 4/4 [00:18<00:00,  4.67s/it]\u001b[A\n",
      "Data-Model combinations: 8it [10:31, 67.89s/it]\n",
      "Hyperband iterations:   0%|          | 0/4 [00:00<?, ?it/s]\u001b[A/home/roberto_olayo/miniconda3/envs/automl/lib/python3.6/site-packages/sklearn/model_selection/_search.py:925: UserWarning: One or more of the test scores are non-finite: [nan nan nan nan nan nan nan nan nan nan]\n",
      "  category=UserWarning\n"
     ]
    },
    {
     "name": "stderr",
     "output_type": "stream",
     "text": [
      "/home/roberto_olayo/miniconda3/envs/automl/lib/python3.6/site-packages/sklearn/model_selection/_search.py:925: UserWarning: One or more of the test scores are non-finite: [         nan          nan          nan          nan          nan\n",
      "          nan          nan          nan          nan          nan\n",
      "  -2.31066429  -0.75724017 -20.94520175]\n",
      "  category=UserWarning\n",
      "\n",
      "Hyperband iterations:  25%|██▌       | 1/4 [00:09<00:29,  9.98s/it]\u001b[A\n",
      "Hyperband iterations:  50%|█████     | 2/4 [01:09<01:17, 38.88s/it]\u001b[A\n",
      "Hyperband iterations:  75%|███████▌  | 3/4 [02:14<00:50, 50.96s/it]\u001b[A\n",
      "Hyperband iterations: 100%|██████████| 4/4 [03:39<00:00, 54.86s/it]\u001b[A\n",
      "Data-Model combinations: 9it [14:10, 115.27s/it]\n",
      "Hyperband iterations:   0%|          | 0/4 [00:00<?, ?it/s]\u001b[A/home/roberto_olayo/miniconda3/envs/automl/lib/python3.6/site-packages/sklearn/model_selection/_search.py:925: UserWarning: One or more of the test scores are non-finite: [nan nan nan nan nan nan nan nan nan nan]\n",
      "  category=UserWarning\n",
      "/home/roberto_olayo/miniconda3/envs/automl/lib/python3.6/site-packages/sklearn/model_selection/_search.py:925: UserWarning: One or more of the test scores are non-finite: [        nan         nan         nan         nan         nan         nan\n",
      "         nan         nan         nan         nan -6.15100827 -4.29944552\n",
      " -3.1090678 ]\n",
      "  category=UserWarning\n",
      "\n",
      "Hyperband iterations:  25%|██▌       | 1/4 [00:04<00:12,  4.27s/it]\u001b[A\n",
      "Hyperband iterations:  50%|█████     | 2/4 [00:08<00:08,  4.25s/it]\u001b[A\n",
      "Hyperband iterations:  75%|███████▌  | 3/4 [00:14<00:04,  4.89s/it]\u001b[A\n",
      "Hyperband iterations: 100%|██████████| 4/4 [00:21<00:00,  5.25s/it]\u001b[A\n",
      "Data-Model combinations: 10it [14:31, 86.18s/it]\n",
      "Hyperband iterations:   0%|          | 0/4 [00:00<?, ?it/s]\u001b[A/home/roberto_olayo/miniconda3/envs/automl/lib/python3.6/site-packages/sklearn/model_selection/_search.py:925: UserWarning: One or more of the test scores are non-finite: [nan nan nan nan nan nan nan nan nan nan]\n",
      "  category=UserWarning\n",
      "/home/roberto_olayo/miniconda3/envs/automl/lib/python3.6/site-packages/sklearn/model_selection/_search.py:925: UserWarning: One or more of the test scores are non-finite: [        nan         nan         nan         nan         nan         nan\n",
      "         nan         nan         nan         nan -0.83830523 -1.17805778\n",
      " -0.8082817 ]\n",
      "  category=UserWarning\n",
      "\n",
      "Hyperband iterations:  25%|██▌       | 1/4 [00:02<00:08,  2.76s/it]\u001b[A\n",
      "Hyperband iterations:  50%|█████     | 2/4 [00:06<00:06,  3.22s/it]\u001b[A\n",
      "Hyperband iterations:  75%|███████▌  | 3/4 [00:11<00:04,  4.19s/it]\u001b[A\n",
      "Hyperband iterations: 100%|██████████| 4/4 [00:17<00:00,  4.50s/it]\u001b[A\n",
      "Data-Model combinations: 11it [14:49, 65.31s/it]\n",
      "Hyperband iterations:   0%|          | 0/4 [00:00<?, ?it/s]\u001b[A/home/roberto_olayo/miniconda3/envs/automl/lib/python3.6/site-packages/sklearn/model_selection/_search.py:925: UserWarning: One or more of the test scores are non-finite: [nan nan nan nan nan nan nan nan nan nan]\n",
      "  category=UserWarning\n",
      "/home/roberto_olayo/miniconda3/envs/automl/lib/python3.6/site-packages/sklearn/model_selection/_search.py:925: UserWarning: One or more of the test scores are non-finite: [         nan          nan          nan          nan          nan\n",
      "          nan          nan          nan          nan          nan\n",
      "  -3.02111345  -0.7560256  -20.59842689]\n",
      "  category=UserWarning\n",
      "\n",
      "Hyperband iterations:  25%|██▌       | 1/4 [00:10<00:30, 10.11s/it]\u001b[A\n",
      "Hyperband iterations:  50%|█████     | 2/4 [01:06<01:14, 37.29s/it]\u001b[A\n",
      "Hyperband iterations:  75%|███████▌  | 3/4 [02:12<00:50, 50.39s/it]\u001b[A\n",
      "Hyperband iterations: 100%|██████████| 4/4 [03:36<00:00, 54.21s/it]\u001b[A\n",
      "Data-Model combinations: 12it [18:26, 92.23s/it] \n"
     ]
    },
    {
     "ename": "KeyboardInterrupt",
     "evalue": "",
     "output_type": "error",
     "traceback": [
      "\u001b[0;31m---------------------------------------------------------------------------\u001b[0m",
      "\u001b[0;31mKeyboardInterrupt\u001b[0m                         Traceback (most recent call last)",
      "\u001b[0;32m<ipython-input-11-f04f611053dd>\u001b[0m in \u001b[0;36m<module>\u001b[0;34m\u001b[0m\n\u001b[1;32m      1\u001b[0m cupid_experiment, cupid_automl = kfold_experiments(X_cupid, y_cupid, kfolds, scorer, automl_dict, voter_clfs,\n\u001b[0;32m----> 2\u001b[0;31m                                                   n_cores=ncores, random_state=42)\n\u001b[0m",
      "\u001b[0;32m~/OlayoAlarcon_automl_ws21/scripts/experiment_functions.py\u001b[0m in \u001b[0;36mkfold_experiments\u001b[0;34m(X_complete, y_complete, cv_folds, scorer, automl_params, voter_classifiers, n_cores, random_state)\u001b[0m\n\u001b[1;32m     43\u001b[0m         mv = VotingClassifier(estimators=[(\"clf1\", voter_classifiers[0]), (\"clf2\", voter_classifiers[1]), (\"clf\", voter_classifiers[2])],\n\u001b[1;32m     44\u001b[0m                               voting='soft', n_jobs=n_cores)\n\u001b[0;32m---> 45\u001b[0;31m         \u001b[0mmv\u001b[0m\u001b[0;34m.\u001b[0m\u001b[0mfit\u001b[0m\u001b[0;34m(\u001b[0m\u001b[0mX_train_prep\u001b[0m\u001b[0;34m,\u001b[0m \u001b[0my_train\u001b[0m\u001b[0;34m)\u001b[0m\u001b[0;34m\u001b[0m\u001b[0;34m\u001b[0m\u001b[0m\n\u001b[0m\u001b[1;32m     46\u001b[0m \u001b[0;34m\u001b[0m\u001b[0m\n\u001b[1;32m     47\u001b[0m \u001b[0;34m\u001b[0m\u001b[0m\n",
      "\u001b[0;32m~/miniconda3/envs/automl/lib/python3.6/site-packages/sklearn/ensemble/_voting.py\u001b[0m in \u001b[0;36mfit\u001b[0;34m(self, X, y, sample_weight)\u001b[0m\n\u001b[1;32m    290\u001b[0m         \u001b[0mtransformed_y\u001b[0m \u001b[0;34m=\u001b[0m \u001b[0mself\u001b[0m\u001b[0;34m.\u001b[0m\u001b[0mle_\u001b[0m\u001b[0;34m.\u001b[0m\u001b[0mtransform\u001b[0m\u001b[0;34m(\u001b[0m\u001b[0my\u001b[0m\u001b[0;34m)\u001b[0m\u001b[0;34m\u001b[0m\u001b[0;34m\u001b[0m\u001b[0m\n\u001b[1;32m    291\u001b[0m \u001b[0;34m\u001b[0m\u001b[0m\n\u001b[0;32m--> 292\u001b[0;31m         \u001b[0;32mreturn\u001b[0m \u001b[0msuper\u001b[0m\u001b[0;34m(\u001b[0m\u001b[0;34m)\u001b[0m\u001b[0;34m.\u001b[0m\u001b[0mfit\u001b[0m\u001b[0;34m(\u001b[0m\u001b[0mX\u001b[0m\u001b[0;34m,\u001b[0m \u001b[0mtransformed_y\u001b[0m\u001b[0;34m,\u001b[0m \u001b[0msample_weight\u001b[0m\u001b[0;34m)\u001b[0m\u001b[0;34m\u001b[0m\u001b[0;34m\u001b[0m\u001b[0m\n\u001b[0m\u001b[1;32m    293\u001b[0m \u001b[0;34m\u001b[0m\u001b[0m\n\u001b[1;32m    294\u001b[0m     \u001b[0;32mdef\u001b[0m \u001b[0mpredict\u001b[0m\u001b[0;34m(\u001b[0m\u001b[0mself\u001b[0m\u001b[0;34m,\u001b[0m \u001b[0mX\u001b[0m\u001b[0;34m)\u001b[0m\u001b[0;34m:\u001b[0m\u001b[0;34m\u001b[0m\u001b[0;34m\u001b[0m\u001b[0m\n",
      "\u001b[0;32m~/miniconda3/envs/automl/lib/python3.6/site-packages/sklearn/ensemble/_voting.py\u001b[0m in \u001b[0;36mfit\u001b[0;34m(self, X, y, sample_weight)\u001b[0m\n\u001b[1;32m     80\u001b[0m                                                   idx + 1, len(clfs))\n\u001b[1;32m     81\u001b[0m                 )\n\u001b[0;32m---> 82\u001b[0;31m                 \u001b[0;32mfor\u001b[0m \u001b[0midx\u001b[0m\u001b[0;34m,\u001b[0m \u001b[0mclf\u001b[0m \u001b[0;32min\u001b[0m \u001b[0menumerate\u001b[0m\u001b[0;34m(\u001b[0m\u001b[0mclfs\u001b[0m\u001b[0;34m)\u001b[0m \u001b[0;32mif\u001b[0m \u001b[0mclf\u001b[0m \u001b[0;34m!=\u001b[0m \u001b[0;34m'drop'\u001b[0m\u001b[0;34m\u001b[0m\u001b[0;34m\u001b[0m\u001b[0m\n\u001b[0m\u001b[1;32m     83\u001b[0m             )\n\u001b[1;32m     84\u001b[0m \u001b[0;34m\u001b[0m\u001b[0m\n",
      "\u001b[0;32m~/miniconda3/envs/automl/lib/python3.6/site-packages/joblib/parallel.py\u001b[0m in \u001b[0;36m__call__\u001b[0;34m(self, iterable)\u001b[0m\n\u001b[1;32m   1054\u001b[0m \u001b[0;34m\u001b[0m\u001b[0m\n\u001b[1;32m   1055\u001b[0m             \u001b[0;32mwith\u001b[0m \u001b[0mself\u001b[0m\u001b[0;34m.\u001b[0m\u001b[0m_backend\u001b[0m\u001b[0;34m.\u001b[0m\u001b[0mretrieval_context\u001b[0m\u001b[0;34m(\u001b[0m\u001b[0;34m)\u001b[0m\u001b[0;34m:\u001b[0m\u001b[0;34m\u001b[0m\u001b[0;34m\u001b[0m\u001b[0m\n\u001b[0;32m-> 1056\u001b[0;31m                 \u001b[0mself\u001b[0m\u001b[0;34m.\u001b[0m\u001b[0mretrieve\u001b[0m\u001b[0;34m(\u001b[0m\u001b[0;34m)\u001b[0m\u001b[0;34m\u001b[0m\u001b[0;34m\u001b[0m\u001b[0m\n\u001b[0m\u001b[1;32m   1057\u001b[0m             \u001b[0;31m# Make sure that we get a last message telling us we are done\u001b[0m\u001b[0;34m\u001b[0m\u001b[0;34m\u001b[0m\u001b[0;34m\u001b[0m\u001b[0m\n\u001b[1;32m   1058\u001b[0m             \u001b[0melapsed_time\u001b[0m \u001b[0;34m=\u001b[0m \u001b[0mtime\u001b[0m\u001b[0;34m.\u001b[0m\u001b[0mtime\u001b[0m\u001b[0;34m(\u001b[0m\u001b[0;34m)\u001b[0m \u001b[0;34m-\u001b[0m \u001b[0mself\u001b[0m\u001b[0;34m.\u001b[0m\u001b[0m_start_time\u001b[0m\u001b[0;34m\u001b[0m\u001b[0;34m\u001b[0m\u001b[0m\n",
      "\u001b[0;32m~/miniconda3/envs/automl/lib/python3.6/site-packages/joblib/parallel.py\u001b[0m in \u001b[0;36mretrieve\u001b[0;34m(self)\u001b[0m\n\u001b[1;32m    933\u001b[0m             \u001b[0;32mtry\u001b[0m\u001b[0;34m:\u001b[0m\u001b[0;34m\u001b[0m\u001b[0;34m\u001b[0m\u001b[0m\n\u001b[1;32m    934\u001b[0m                 \u001b[0;32mif\u001b[0m \u001b[0mgetattr\u001b[0m\u001b[0;34m(\u001b[0m\u001b[0mself\u001b[0m\u001b[0;34m.\u001b[0m\u001b[0m_backend\u001b[0m\u001b[0;34m,\u001b[0m \u001b[0;34m'supports_timeout'\u001b[0m\u001b[0;34m,\u001b[0m \u001b[0;32mFalse\u001b[0m\u001b[0;34m)\u001b[0m\u001b[0;34m:\u001b[0m\u001b[0;34m\u001b[0m\u001b[0;34m\u001b[0m\u001b[0m\n\u001b[0;32m--> 935\u001b[0;31m                     \u001b[0mself\u001b[0m\u001b[0;34m.\u001b[0m\u001b[0m_output\u001b[0m\u001b[0;34m.\u001b[0m\u001b[0mextend\u001b[0m\u001b[0;34m(\u001b[0m\u001b[0mjob\u001b[0m\u001b[0;34m.\u001b[0m\u001b[0mget\u001b[0m\u001b[0;34m(\u001b[0m\u001b[0mtimeout\u001b[0m\u001b[0;34m=\u001b[0m\u001b[0mself\u001b[0m\u001b[0;34m.\u001b[0m\u001b[0mtimeout\u001b[0m\u001b[0;34m)\u001b[0m\u001b[0;34m)\u001b[0m\u001b[0;34m\u001b[0m\u001b[0;34m\u001b[0m\u001b[0m\n\u001b[0m\u001b[1;32m    936\u001b[0m                 \u001b[0;32melse\u001b[0m\u001b[0;34m:\u001b[0m\u001b[0;34m\u001b[0m\u001b[0;34m\u001b[0m\u001b[0m\n\u001b[1;32m    937\u001b[0m                     \u001b[0mself\u001b[0m\u001b[0;34m.\u001b[0m\u001b[0m_output\u001b[0m\u001b[0;34m.\u001b[0m\u001b[0mextend\u001b[0m\u001b[0;34m(\u001b[0m\u001b[0mjob\u001b[0m\u001b[0;34m.\u001b[0m\u001b[0mget\u001b[0m\u001b[0;34m(\u001b[0m\u001b[0;34m)\u001b[0m\u001b[0;34m)\u001b[0m\u001b[0;34m\u001b[0m\u001b[0;34m\u001b[0m\u001b[0m\n",
      "\u001b[0;32m~/miniconda3/envs/automl/lib/python3.6/site-packages/joblib/_parallel_backends.py\u001b[0m in \u001b[0;36mwrap_future_result\u001b[0;34m(future, timeout)\u001b[0m\n\u001b[1;32m    540\u001b[0m         AsyncResults.get from multiprocessing.\"\"\"\n\u001b[1;32m    541\u001b[0m         \u001b[0;32mtry\u001b[0m\u001b[0;34m:\u001b[0m\u001b[0;34m\u001b[0m\u001b[0;34m\u001b[0m\u001b[0m\n\u001b[0;32m--> 542\u001b[0;31m             \u001b[0;32mreturn\u001b[0m \u001b[0mfuture\u001b[0m\u001b[0;34m.\u001b[0m\u001b[0mresult\u001b[0m\u001b[0;34m(\u001b[0m\u001b[0mtimeout\u001b[0m\u001b[0;34m=\u001b[0m\u001b[0mtimeout\u001b[0m\u001b[0;34m)\u001b[0m\u001b[0;34m\u001b[0m\u001b[0;34m\u001b[0m\u001b[0m\n\u001b[0m\u001b[1;32m    543\u001b[0m         \u001b[0;32mexcept\u001b[0m \u001b[0mCfTimeoutError\u001b[0m \u001b[0;32mas\u001b[0m \u001b[0me\u001b[0m\u001b[0;34m:\u001b[0m\u001b[0;34m\u001b[0m\u001b[0;34m\u001b[0m\u001b[0m\n\u001b[1;32m    544\u001b[0m             \u001b[0;32mraise\u001b[0m \u001b[0mTimeoutError\u001b[0m \u001b[0;32mfrom\u001b[0m \u001b[0me\u001b[0m\u001b[0;34m\u001b[0m\u001b[0;34m\u001b[0m\u001b[0m\n",
      "\u001b[0;32m~/miniconda3/envs/automl/lib/python3.6/concurrent/futures/_base.py\u001b[0m in \u001b[0;36mresult\u001b[0;34m(self, timeout)\u001b[0m\n\u001b[1;32m    425\u001b[0m                 \u001b[0;32mreturn\u001b[0m \u001b[0mself\u001b[0m\u001b[0;34m.\u001b[0m\u001b[0m__get_result\u001b[0m\u001b[0;34m(\u001b[0m\u001b[0;34m)\u001b[0m\u001b[0;34m\u001b[0m\u001b[0;34m\u001b[0m\u001b[0m\n\u001b[1;32m    426\u001b[0m \u001b[0;34m\u001b[0m\u001b[0m\n\u001b[0;32m--> 427\u001b[0;31m             \u001b[0mself\u001b[0m\u001b[0;34m.\u001b[0m\u001b[0m_condition\u001b[0m\u001b[0;34m.\u001b[0m\u001b[0mwait\u001b[0m\u001b[0;34m(\u001b[0m\u001b[0mtimeout\u001b[0m\u001b[0;34m)\u001b[0m\u001b[0;34m\u001b[0m\u001b[0;34m\u001b[0m\u001b[0m\n\u001b[0m\u001b[1;32m    428\u001b[0m \u001b[0;34m\u001b[0m\u001b[0m\n\u001b[1;32m    429\u001b[0m             \u001b[0;32mif\u001b[0m \u001b[0mself\u001b[0m\u001b[0;34m.\u001b[0m\u001b[0m_state\u001b[0m \u001b[0;32min\u001b[0m \u001b[0;34m[\u001b[0m\u001b[0mCANCELLED\u001b[0m\u001b[0;34m,\u001b[0m \u001b[0mCANCELLED_AND_NOTIFIED\u001b[0m\u001b[0;34m]\u001b[0m\u001b[0;34m:\u001b[0m\u001b[0;34m\u001b[0m\u001b[0;34m\u001b[0m\u001b[0m\n",
      "\u001b[0;32m~/miniconda3/envs/automl/lib/python3.6/threading.py\u001b[0m in \u001b[0;36mwait\u001b[0;34m(self, timeout)\u001b[0m\n\u001b[1;32m    293\u001b[0m         \u001b[0;32mtry\u001b[0m\u001b[0;34m:\u001b[0m    \u001b[0;31m# restore state no matter what (e.g., KeyboardInterrupt)\u001b[0m\u001b[0;34m\u001b[0m\u001b[0;34m\u001b[0m\u001b[0m\n\u001b[1;32m    294\u001b[0m             \u001b[0;32mif\u001b[0m \u001b[0mtimeout\u001b[0m \u001b[0;32mis\u001b[0m \u001b[0;32mNone\u001b[0m\u001b[0;34m:\u001b[0m\u001b[0;34m\u001b[0m\u001b[0;34m\u001b[0m\u001b[0m\n\u001b[0;32m--> 295\u001b[0;31m                 \u001b[0mwaiter\u001b[0m\u001b[0;34m.\u001b[0m\u001b[0macquire\u001b[0m\u001b[0;34m(\u001b[0m\u001b[0;34m)\u001b[0m\u001b[0;34m\u001b[0m\u001b[0;34m\u001b[0m\u001b[0m\n\u001b[0m\u001b[1;32m    296\u001b[0m                 \u001b[0mgotit\u001b[0m \u001b[0;34m=\u001b[0m \u001b[0;32mTrue\u001b[0m\u001b[0;34m\u001b[0m\u001b[0;34m\u001b[0m\u001b[0m\n\u001b[1;32m    297\u001b[0m             \u001b[0;32melse\u001b[0m\u001b[0;34m:\u001b[0m\u001b[0;34m\u001b[0m\u001b[0;34m\u001b[0m\u001b[0m\n",
      "\u001b[0;31mKeyboardInterrupt\u001b[0m: "
     ]
    }
   ],
   "source": [
    "cupid_experiment, cupid_automl = kfold_experiments(X_cupid, y_cupid, kfolds, scorer, automl_dict, voter_clfs,\n",
    "                                                  n_cores=ncores, random_state=42)"
   ]
  },
  {
   "cell_type": "code",
   "execution_count": null,
   "id": "bdafa02c",
   "metadata": {},
   "outputs": [],
   "source": [
    "cupid_experiment.to_csv(\"data/cupid_experiment.tsv.gz\", sep='\\t')\n",
    "cupid_automl.to_csv(\"data/cupid_experiment.tsv.gz\", sep='\\t')"
   ]
  }
 ],
 "metadata": {
  "kernelspec": {
   "display_name": "Python 3",
   "language": "python",
   "name": "python3"
  },
  "language_info": {
   "codemirror_mode": {
    "name": "ipython",
    "version": 3
   },
   "file_extension": ".py",
   "mimetype": "text/x-python",
   "name": "python",
   "nbconvert_exporter": "python",
   "pygments_lexer": "ipython3",
   "version": "3.6.13"
  }
 },
 "nbformat": 4,
 "nbformat_minor": 5
}
