{
 "cells": [
  {
   "cell_type": "code",
   "execution_count": 1,
   "id": "c13e077e",
   "metadata": {},
   "outputs": [],
   "source": [
    "import numpy as np\n",
    "import pandas as pd\n",
    "from scipy.io import arff\n",
    "from scripts.automl import automl\n",
    "from sklearn.model_selection import StratifiedKFold"
   ]
  },
  {
   "cell_type": "markdown",
   "id": "1b3e02da",
   "metadata": {},
   "source": [
    "# Read Data"
   ]
  },
  {
   "cell_type": "code",
   "execution_count": 2,
   "id": "b1acc476",
   "metadata": {},
   "outputs": [],
   "source": [
    "churn_data = arff.loadarff(\"data/chrun.arff\")\n",
    "churn_df = pd.DataFrame(churn_data[0])"
   ]
  },
  {
   "cell_type": "markdown",
   "id": "5dc01dca",
   "metadata": {},
   "source": [
    "Small pre-processing. The columns **class** and **number_customer_service_calls** can be made ints"
   ]
  },
  {
   "cell_type": "code",
   "execution_count": 3,
   "id": "97e7d781",
   "metadata": {},
   "outputs": [],
   "source": [
    "churn_df[\"class\"] = churn_df[\"class\"].astype(int)\n",
    "churn_df[\"number_customer_service_calls\"] = churn_df[\"number_customer_service_calls\"].astype(int)"
   ]
  },
  {
   "cell_type": "markdown",
   "id": "93b52192",
   "metadata": {},
   "source": [
    "# Prepare for automl"
   ]
  },
  {
   "cell_type": "code",
   "execution_count": 4,
   "id": "7d99f74a",
   "metadata": {},
   "outputs": [],
   "source": [
    "X_complete = churn_df.drop(columns=\"class\")\n",
    "y_complete = np.reshape(churn_df[[\"class\"]].values, X_complete.shape[0])"
   ]
  },
  {
   "cell_type": "markdown",
   "id": "db344d22",
   "metadata": {},
   "source": [
    "# Apply AutoML"
   ]
  },
  {
   "cell_type": "code",
   "execution_count": 5,
   "id": "641fb9f1",
   "metadata": {
    "scrolled": true
   },
   "outputs": [],
   "source": [
    "#complete_archive, best_pipeline, final_metrics = automl(X_complete, y_complete, \n",
    "#                                                        classification_algorithms=[\"EL\", \"RF\", \"GB\"],\n",
    "#                                                        numerical_strategies=[\"SSE\", \"MMS\"],\n",
    "#                                                        test_fraction=0.3, cv_folds=5, n_jobs=50)"
   ]
  },
  {
   "cell_type": "markdown",
   "id": "63f631dc",
   "metadata": {},
   "source": [
    "# K-fold experiments"
   ]
  },
  {
   "cell_type": "code",
   "execution_count": 6,
   "id": "b4059531",
   "metadata": {},
   "outputs": [],
   "source": [
    "import tqdm\n",
    "from sklearn.metrics import SCORERS\n",
    "from sklearn.linear_model import LogisticRegression\n",
    "from scripts.preprocessing_functions import basic_processing\n",
    "from sklearn.ensemble import RandomForestClassifier, GradientBoostingClassifier, VotingClassifier"
   ]
  },
  {
   "cell_type": "code",
   "execution_count": 7,
   "id": "b0db1c34",
   "metadata": {},
   "outputs": [],
   "source": [
    "skf = StratifiedKFold(n_splits=10)"
   ]
  },
  {
   "cell_type": "code",
   "execution_count": 8,
   "id": "a4ec8faf",
   "metadata": {
    "scrolled": true
   },
   "outputs": [
    {
     "name": "stdout",
     "output_type": "stream",
     "text": [
      "FOLD 0\n"
     ]
    },
    {
     "name": "stderr",
     "output_type": "stream",
     "text": [
      "18it [01:26,  4.82s/it]\n"
     ]
    },
    {
     "name": "stdout",
     "output_type": "stream",
     "text": [
      "FOLD 1\n"
     ]
    },
    {
     "name": "stderr",
     "output_type": "stream",
     "text": [
      "0it [00:00, ?it/s]/home/roberto_olayo/miniconda3/envs/automl/lib/python3.6/site-packages/sklearn/linear_model/_sag.py:329: ConvergenceWarning: The max_iter was reached which means the coef_ did not converge\n",
      "  \"the coef_ did not converge\", ConvergenceWarning)\n",
      "/home/roberto_olayo/miniconda3/envs/automl/lib/python3.6/site-packages/sklearn/linear_model/_sag.py:329: ConvergenceWarning: The max_iter was reached which means the coef_ did not converge\n",
      "  \"the coef_ did not converge\", ConvergenceWarning)\n",
      "18it [01:27,  4.84s/it]\n"
     ]
    },
    {
     "name": "stdout",
     "output_type": "stream",
     "text": [
      "FOLD 2\n"
     ]
    },
    {
     "name": "stderr",
     "output_type": "stream",
     "text": [
      "0it [00:00, ?it/s]/home/roberto_olayo/miniconda3/envs/automl/lib/python3.6/site-packages/sklearn/linear_model/_sag.py:329: ConvergenceWarning: The max_iter was reached which means the coef_ did not converge\n",
      "  \"the coef_ did not converge\", ConvergenceWarning)\n",
      "18it [01:25,  4.74s/it]\n"
     ]
    },
    {
     "name": "stdout",
     "output_type": "stream",
     "text": [
      "FOLD 3\n"
     ]
    },
    {
     "name": "stderr",
     "output_type": "stream",
     "text": [
      "18it [01:30,  5.05s/it]\n"
     ]
    },
    {
     "name": "stdout",
     "output_type": "stream",
     "text": [
      "FOLD 4\n"
     ]
    },
    {
     "name": "stderr",
     "output_type": "stream",
     "text": [
      "0it [00:00, ?it/s]/home/roberto_olayo/miniconda3/envs/automl/lib/python3.6/site-packages/sklearn/linear_model/_sag.py:329: ConvergenceWarning: The max_iter was reached which means the coef_ did not converge\n",
      "  \"the coef_ did not converge\", ConvergenceWarning)\n",
      "/home/roberto_olayo/miniconda3/envs/automl/lib/python3.6/site-packages/sklearn/linear_model/_sag.py:329: ConvergenceWarning: The max_iter was reached which means the coef_ did not converge\n",
      "  \"the coef_ did not converge\", ConvergenceWarning)\n",
      "18it [01:25,  4.77s/it]\n"
     ]
    },
    {
     "name": "stdout",
     "output_type": "stream",
     "text": [
      "FOLD 5\n"
     ]
    },
    {
     "name": "stderr",
     "output_type": "stream",
     "text": [
      "0it [00:00, ?it/s]/home/roberto_olayo/miniconda3/envs/automl/lib/python3.6/site-packages/sklearn/linear_model/_sag.py:329: ConvergenceWarning: The max_iter was reached which means the coef_ did not converge\n",
      "  \"the coef_ did not converge\", ConvergenceWarning)\n",
      "18it [01:25,  4.76s/it]\n"
     ]
    },
    {
     "name": "stdout",
     "output_type": "stream",
     "text": [
      "FOLD 6\n"
     ]
    },
    {
     "name": "stderr",
     "output_type": "stream",
     "text": [
      "18it [01:28,  4.90s/it]\n"
     ]
    },
    {
     "name": "stdout",
     "output_type": "stream",
     "text": [
      "FOLD 7\n"
     ]
    },
    {
     "name": "stderr",
     "output_type": "stream",
     "text": [
      "18it [01:27,  4.85s/it]\n"
     ]
    },
    {
     "name": "stdout",
     "output_type": "stream",
     "text": [
      "FOLD 8\n"
     ]
    },
    {
     "name": "stderr",
     "output_type": "stream",
     "text": [
      "0it [00:00, ?it/s]/home/roberto_olayo/miniconda3/envs/automl/lib/python3.6/site-packages/sklearn/linear_model/_sag.py:329: ConvergenceWarning: The max_iter was reached which means the coef_ did not converge\n",
      "  \"the coef_ did not converge\", ConvergenceWarning)\n",
      "18it [01:29,  5.00s/it]\n"
     ]
    },
    {
     "name": "stdout",
     "output_type": "stream",
     "text": [
      "FOLD 9\n"
     ]
    },
    {
     "name": "stderr",
     "output_type": "stream",
     "text": [
      "0it [00:00, ?it/s]/home/roberto_olayo/miniconda3/envs/automl/lib/python3.6/site-packages/sklearn/linear_model/_sag.py:329: ConvergenceWarning: The max_iter was reached which means the coef_ did not converge\n",
      "  \"the coef_ did not converge\", ConvergenceWarning)\n",
      "18it [01:26,  4.79s/it]\n"
     ]
    }
   ],
   "source": [
    "i=0\n",
    "automl_archive = pd.DataFrame()\n",
    "kfold_archive = pd.DataFrame()\n",
    "scorer = \"neg_log_loss\"\n",
    "ncores=50\n",
    "rand_state=42\n",
    "\n",
    "for train_index, test_index in skf.split(X_complete, y_complete):\n",
    "    print(f\"FOLD {i}\")\n",
    "    \n",
    "    # Splitting the data\n",
    "    X_train = basic_processing(X_complete.iloc[train_index,:])\n",
    "    y_train = y_complete[train_index]\n",
    "    \n",
    "    X_test = basic_processing(X_complete.iloc[test_index, :])\n",
    "    y_test = y_complete[test_index]\n",
    "    \n",
    "    # Training\n",
    "    ## AutoML\n",
    "    complete_archive, best_pipeline, final_metrics = automl(X_train, y_train, \n",
    "                                                            classification_algorithms=[\"EL\", \"RF\", \"GB\"],\n",
    "                                                            numerical_strategies=[\"SSE\", \"MMS\"],\n",
    "                                                            test_fraction=0.1, cv_folds=4, \n",
    "                                                            random_state=rand_state,\n",
    "                                                            num_iterations=4,\n",
    "                                                            n_jobs=ncores)\n",
    "    \n",
    "    ## Random Forrest\n",
    "    rf = RandomForestClassifier(random_state=rand_state, n_jobs=ncores)\n",
    "    rf.fit(X_train, y_train)\n",
    "    \n",
    "    ## Majority voting\n",
    "    mv_rf = RandomForestClassifier(random_state=rand_state, n_estimators=50)\n",
    "    mv_lr = LogisticRegression(solver=\"saga\", penalty=\"elasticnet\", l1_ratio=0.5, C=0.5)\n",
    "    mv_gb = GradientBoostingClassifier(n_estimators=50, random_state=rand_state)\n",
    "    \n",
    "    mv = VotingClassifier(estimators=[(\"rf\", mv_rf), (\"lr\", mv_lr), (\"gb\", mv_gb)],\n",
    "                          voting='soft', n_jobs=ncores)\n",
    "    mv.fit(X_train, y_train)\n",
    "    \n",
    "    \n",
    "    # Testing\n",
    "    mv_score = SCORERS[scorer](mv, X_test, y_test)\n",
    "    rf_score = SCORERS[scorer](rf, X_test, y_test)\n",
    "    am_score = SCORERS[scorer](best_pipeline, X_test, y_test)\n",
    "    \n",
    "    k_performance = pd.DataFrame({\"model\": [\"AutoML\", \"RF\", \"MV\"],\n",
    "                                  \"validation\": [mv_score, rf_score, am_score],\n",
    "                                  \"kfold\":[i, i, i]})\n",
    "    \n",
    "    # Add Performance to dataframe\n",
    "    kfold_archive = pd.concat([kfold_archive, k_performance])\n",
    "    \n",
    "    # Keep info about kfold for automl\n",
    "    complete_archive[\"kfold\"] = i\n",
    "    automl_archive = pd.concat([automl_archive, complete_archive])\n",
    "    \n",
    "    i += 1"
   ]
  }
 ],
 "metadata": {
  "kernelspec": {
   "display_name": "Python 3",
   "language": "python",
   "name": "python3"
  },
  "language_info": {
   "codemirror_mode": {
    "name": "ipython",
    "version": 3
   },
   "file_extension": ".py",
   "mimetype": "text/x-python",
   "name": "python",
   "nbconvert_exporter": "python",
   "pygments_lexer": "ipython3",
   "version": "3.6.13"
  }
 },
 "nbformat": 4,
 "nbformat_minor": 5
}
