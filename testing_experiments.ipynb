{
 "cells": [
  {
   "cell_type": "code",
   "execution_count": 1,
   "id": "1aa0ba13",
   "metadata": {},
   "outputs": [],
   "source": [
    "import numpy as np\n",
    "import pandas as pd\n",
    "import seaborn as sns\n",
    "from scipy.io import arff\n",
    "import matplotlib.pyplot as plt\n",
    "from timeit import default_timer as timer\n",
    "from scripts.experiment_functions import kfold_experiments\n",
    "from scripts.preprocessing_dictionaries import category_strategy_dict, numerical_strategy_dict\n",
    "from scripts.preprocessing_functions import basic_processing, data_preprocessing, split_dataset, data_reduction"
   ]
  },
  {
   "cell_type": "code",
   "execution_count": 2,
   "id": "3acb472b",
   "metadata": {},
   "outputs": [],
   "source": [
    "okcupid_stem = arff.loadarff(\"data/okcupid_stem.arff\")\n",
    "okcupid_df = pd.DataFrame(okcupid_stem[0])"
   ]
  },
  {
   "cell_type": "code",
   "execution_count": 3,
   "id": "52ed8ba5",
   "metadata": {},
   "outputs": [],
   "source": [
    "drinks_dict = {b\"not at all\": 0,\n",
    "               b\"rarely\": 1,\n",
    "               b\"socially\": 2,\n",
    "               b\"often\":3,\n",
    "               b\"very often\": 4,\n",
    "               b\"desperately\":5,\n",
    "               b\"?\": np.nan}\n",
    "\n",
    "drugs_dict = {b\"never\":0,\n",
    "              b\"sometimes\": 1,\n",
    "              b\"often\": 2,\n",
    "              b\"?\": np.nan}\n",
    "\n",
    "smokes_dict = {b\"no\": 0,\n",
    "               b\"trying to quit\": 1,\n",
    "               b\"when drinking\": 2,\n",
    "               b\"sometimes\":3,\n",
    "               b\"yes\": 4,\n",
    "              b\"?\": np.nan}\n",
    "\n",
    "okcupid_df[\"drinks\"] = okcupid_df[\"drinks\"].apply(drinks_dict.get)\n",
    "okcupid_df[\"drugs\"] = okcupid_df[\"drugs\"].apply(drugs_dict.get)\n",
    "okcupid_df[\"smokes\"] = okcupid_df[\"smokes\"].apply(smokes_dict.get)"
   ]
  },
  {
   "cell_type": "code",
   "execution_count": 4,
   "id": "9c8ad6f0",
   "metadata": {},
   "outputs": [],
   "source": [
    "def determine_dtype(x):\n",
    "    return x.decode(\"utf-8\")\n",
    "\n",
    "for col in okcupid_df.select_dtypes(include=\"object\").columns:\n",
    "    okcupid_df[col] = okcupid_df[col].apply(determine_dtype)\n",
    "\n",
    "okcupid_df.replace('?', np.nan, inplace=True)\n",
    "okcupid_df[\"income\"] = okcupid_df[\"income\"].astype('float64')"
   ]
  },
  {
   "cell_type": "markdown",
   "id": "e7ef66d9",
   "metadata": {},
   "source": [
    "# Follow the pipeline"
   ]
  },
  {
   "cell_type": "code",
   "execution_count": 5,
   "id": "39f04783",
   "metadata": {},
   "outputs": [],
   "source": [
    "# Data\n",
    "X_cupid = okcupid_df.drop(columns=\"job\")\n",
    "y_cupid = np.reshape(okcupid_df[\"job\"].values, X_cupid.shape[0])"
   ]
  },
  {
   "cell_type": "code",
   "execution_count": 6,
   "id": "274fbcec",
   "metadata": {},
   "outputs": [],
   "source": [
    "splitted_data = split_dataset(X_cupid, y_cupid, 0.1, 42)"
   ]
  },
  {
   "cell_type": "code",
   "execution_count": 7,
   "id": "c8b79f8d",
   "metadata": {},
   "outputs": [],
   "source": [
    "# Remove NAs and add a small pseudocount\n",
    "splitted_data[\"X_train_clean\"] = basic_processing(splitted_data[\"X_train\"])\n",
    "splitted_data[\"X_validation_clean\"] = basic_processing(splitted_data[\"X_validation\"])"
   ]
  },
  {
   "cell_type": "code",
   "execution_count": 8,
   "id": "055a4bc0",
   "metadata": {},
   "outputs": [],
   "source": [
    "# Get data with categorical features\n",
    "encoded_data, encoder_objs = data_preprocessing(splitted_data[\"X_train_clean\"], [\"OHE_VAR\"], [\"SSE_VAR\"], category_strategy_dict, numerical_strategy_dict)\n"
   ]
  },
  {
   "cell_type": "code",
   "execution_count": 9,
   "id": "618e95eb",
   "metadata": {},
   "outputs": [
    {
     "data": {
      "text/plain": [
       "{'OHE_VAR-SSE_VAR': array([[ 1.00000000e+00,  0.00000000e+00,  0.00000000e+00, ...,\n",
       "          2.19011591e+00,  0.00000000e+00,  5.19571719e-17],\n",
       "        [ 0.00000000e+00,  0.00000000e+00,  0.00000000e+00, ...,\n",
       "         -3.36103395e-01,  0.00000000e+00,  2.34514067e+00],\n",
       "        [ 0.00000000e+00,  0.00000000e+00,  0.00000000e+00, ...,\n",
       "          4.21762396e-01,  0.00000000e+00, -4.62790929e-01],\n",
       "        ...,\n",
       "        [ 0.00000000e+00,  0.00000000e+00,  1.00000000e+00, ...,\n",
       "          1.43225012e+00, -2.23629444e-01, -4.62790929e-01],\n",
       "        [ 0.00000000e+00,  1.00000000e+00,  0.00000000e+00, ...,\n",
       "         -5.88725325e-01,  0.00000000e+00,  2.34514067e+00],\n",
       "        [ 0.00000000e+00,  0.00000000e+00,  0.00000000e+00, ...,\n",
       "          1.68487205e+00,  0.00000000e+00, -4.62790929e-01]]),\n",
       " 'FAMD': array([[-1.30377369, -0.80572219,  1.25624282, ..., -1.570633  ,\n",
       "          0.04313904,  0.32989056],\n",
       "        [ 2.5113574 , -0.28136791,  0.83148983, ..., -3.11553875,\n",
       "          0.72817239,  0.57575745],\n",
       "        [ 0.49535115,  2.6326537 , -0.1728618 , ..., -0.25945947,\n",
       "         -0.25849977,  0.07014841],\n",
       "        ...,\n",
       "        [-1.73638893, -1.21576802, -0.88007349, ..., -0.9101827 ,\n",
       "          0.3604147 ,  0.41906179],\n",
       "        [-0.27902019, -0.80262533,  2.18650305, ...,  0.49423114,\n",
       "          0.44427332,  0.50538641],\n",
       "        [ 1.01156586, -2.12764269, -1.96849418, ...,  1.57876222,\n",
       "          0.32674382, -2.7724169 ]])}"
      ]
     },
     "execution_count": 9,
     "metadata": {},
     "output_type": "execute_result"
    }
   ],
   "source": [
    "encoded_data, encoder_objs = data_reduction(splitted_data[\"X_train_clean\"], \n",
    "                                            encoded_data, \n",
    "                                            encoder_objs, [\"FAMD\"], \n",
    "                                            20)\n",
    "encoded_data\n"
   ]
  },
  {
   "cell_type": "code",
   "execution_count": 10,
   "id": "a255ae63",
   "metadata": {},
   "outputs": [
    {
     "data": {
      "text/plain": [
       "array([[-0.4340262 , -1.43679857, -0.67092224, ..., -1.27637973,\n",
       "        -0.22898996,  0.6078747 ],\n",
       "       [-2.10340171,  2.25563514,  2.49598662, ...,  1.30053128,\n",
       "         1.32442278, -0.55516338],\n",
       "       [ 0.82685425,  0.94191028, -0.12056374, ...,  1.33364424,\n",
       "         0.38524246,  0.37850918],\n",
       "       ...,\n",
       "       [-0.54037522,  2.64707752, -1.97087568, ..., -1.37443192,\n",
       "        -1.18525442,  0.66195473],\n",
       "       [-1.15916035,  1.96906229,  1.46207295, ..., -0.9632268 ,\n",
       "         0.09661166,  0.18204459],\n",
       "       [ 1.14315572,  1.90496479,  0.62897992, ..., -0.86877995,\n",
       "        -0.193219  ,  0.21116106]])"
      ]
     },
     "execution_count": 10,
     "metadata": {},
     "output_type": "execute_result"
    }
   ],
   "source": [
    "encoder_objs[\"FAMD\"].transform(splitted_data[\"X_validation_clean\"])"
   ]
  }
 ],
 "metadata": {
  "kernelspec": {
   "display_name": "Python 3",
   "language": "python",
   "name": "python3"
  },
  "language_info": {
   "codemirror_mode": {
    "name": "ipython",
    "version": 3
   },
   "file_extension": ".py",
   "mimetype": "text/x-python",
   "name": "python",
   "nbconvert_exporter": "python",
   "pygments_lexer": "ipython3",
   "version": "3.6.13"
  }
 },
 "nbformat": 4,
 "nbformat_minor": 5
}
